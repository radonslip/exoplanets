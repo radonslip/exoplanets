{
 "cells": [
  {
   "cell_type": "code",
   "execution_count": null,
   "metadata": {},
   "outputs": [],
   "source": [
    "import pandas as pd\n",
    "\n",
    "dataset = pd.read_csv(\"dataset/q1_q8_koi_2025.02.03_04.12.15.csv\")\n",
    "\n",
    "candidates = dataset.loc[(dataset[\"koi_disposition\"] == \"CONFIRMED\") & (dataset[\"koi_pdisposition\"] == \"CANDIDATE\")]\n",
    "candidates.head()\n",
    "\n",
    "candidates.to_csv(\"dataset/candidates.csv\")\n",
    "\n",
    "falsePositives = dataset.loc[(dataset[\"koi_disposition\"] == \"FALSE POSITIVE\") & (dataset[\"koi_pdisposition\"] == \"FALSE POSITIVE\")]\n",
    "falsePositives.head()\n",
    "\n",
    "falsePositives.to_csv(\"dataset/falsePositives.csv\")"
   ]
  },
  {
   "cell_type": "code",
   "execution_count": null,
   "metadata": {},
   "outputs": [],
   "source": [
    "%matplotlib inline\n",
    "import lightkurve as lk\n",
    "import numpy as np\n",
    "import pandas as pd\n",
    "from astropy.io import fits\n",
    "\n",
    "candidates = pd.read_csv(\"dataset/candidates.csv\")\n",
    "candidates.head()\n",
    "\n",
    "# 9388479 - Test confirmed exoplanet\n",
    "# curve = lk.search_targetpixelfile('9388479', author='Kepler', cadence='long', limit=1).download()\n",
    "# curve.to_fits(\"dataset/\" + '9388479' + \".FITS\", True)\n",
    "\n",
    "# nuCurve = lk.read(\"dataset/9388479.FITS\")\n",
    "# nuCurve.plot(frame=100, scale='log', show_colorbar=True)\n",
    "\n",
    "\n",
    "\n",
    "\n",
    "for index,candidate in candidates.iterrows():\n",
    "    print(candidate[\"kepid\"])\n",
    "    curve = lk.search_targetpixelfile(candidate[\"kepid\"], author='Kepler', cadence='long', limit=1).download()\n",
    "    curve.to_fits(\"dataset/candidates/\" + str(candidate[\"kepid\"]) + \".fits\", True)\n"
   ]
  },
  {
   "cell_type": "code",
   "execution_count": null,
   "metadata": {},
   "outputs": [],
   "source": [
    "%matplotlib inline\n",
    "import lightkurve as lk\n",
    "import numpy as np\n",
    "import pandas as pd\n",
    "from astropy.io import fits\n",
    "from alive_progress import alive_bar\n",
    "\n",
    "falsePositives = pd.read_csv(\"dataset/falsePositives.csv\")\n",
    "falsePositives.head()\n",
    "\n",
    "# 9388479 - Test confirmed exoplanet\n",
    "# curve = lk.search_targetpixelfile('9388479', author='Kepler', cadence='long', limit=1).download()\n",
    "# curve.to_fits(\"dataset/\" + '9388479' + \".FITS\", True)\n",
    "\n",
    "# nuCurve = lk.read(\"dataset/9388479.FITS\")\n",
    "# nuCurve.plot(frame=100, scale='log', show_colorbar=True)\n",
    "\n",
    "\n",
    "\n",
    "with alive_bar() as bar:\n",
    "    for index,falsePositive in falsePositives.iterrows():\n",
    "        print(falsePositive[\"kepid\"])\n",
    "        curve = lk.search_targetpixelfile(falsePositive[\"kepid\"], author='Kepler', cadence='long', limit=1).download()\n",
    "        curve.to_fits(\"dataset/falsePositives/\" + str(falsePositive[\"kepid\"]) + \".fits\", True)\n",
    "        bar()\n"
   ]
  },
  {
   "cell_type": "code",
   "execution_count": null,
   "metadata": {},
   "outputs": [],
   "source": [
    "%matplotlib inline\n",
    "import lightkurve as lk\n",
    "import numpy as np\n",
    "import pandas as pd\n",
    "from astropy.io import fits\n",
    "\n",
    "candidates = pd.read_csv(\"dataset/candidates.csv\")\n",
    "candidates.head()\n",
    "\n",
    "\n",
    "for index,candidate in candidates.iterrows():\n",
    "    print(candidate[\"kepid\"])\n",
    "    curve = lk.search_targetpixelfile(candidate[\"kepid\"], author='Kepler', cadence='long', limit=1).download()\n",
    "    curve.to_fits(\"dataset/candidates/\" + str(candidate[\"kepid\"]) + \".fits\", True)"
   ]
  }
 ],
 "metadata": {
  "kernelspec": {
   "display_name": "Python 3",
   "language": "python",
   "name": "python3"
  },
  "language_info": {
   "codemirror_mode": {
    "name": "ipython",
    "version": 3
   },
   "file_extension": ".py",
   "mimetype": "text/x-python",
   "name": "python",
   "nbconvert_exporter": "python",
   "pygments_lexer": "ipython3",
   "version": "3.10.6"
  }
 },
 "nbformat": 4,
 "nbformat_minor": 2
}
