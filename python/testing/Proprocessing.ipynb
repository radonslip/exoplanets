{
 "cells": [
  {
   "cell_type": "code",
   "execution_count": null,
   "id": "b96a4ffb",
   "metadata": {},
   "outputs": [],
   "source": [
    "from astroquery.nasa_exoplanet_archive import NasaExoplanetArchive\n",
    "import pandas as pd\n",
    "\n",
    "\n",
    "where_con = (\n",
    "    \"koi_disposition = 'CONFIRMED' AND \"\n",
    "    \"koi_depth > 500 AND \"\n",
    "    \"koi_model_snr > 100 AND \"\n",
    "    \"koi_fpflag_nt = 0 AND \"\n",
    "    \"koi_fpflag_ss = 0 AND \"\n",
    "    \"koi_fpflag_co = 0 AND \"\n",
    "    \"koi_fpflag_ec = 0\"\n",
    ")\n",
    "\n",
    "where_fal = (\n",
    "    \"koi_disposition = 'FALSE POSITIVE' AND \"\n",
    "    \"koi_fpflag_nt = 1\"\n",
    ")\n",
    "\n",
    "# Step 1: Query CONFIRMED KOIs\n",
    "confirmed = NasaExoplanetArchive.query_criteria(\n",
    "    table=\"cumulative\",\n",
    "    select=\"kepid, koi_period, koi_duration, koi_time0bk, koi_depth, koi_model_snr, koi_disposition\",\n",
    "    where=where_con\n",
    ").to_pandas().dropna()\n",
    "\n",
    "# Step 2: Query FALSE POSITIVE KOIs\n",
    "false_positives = NasaExoplanetArchive.query_criteria(\n",
    "    table=\"cumulative\",\n",
    "    select=\"kepid, koi_period, koi_duration, koi_time0bk, koi_depth, koi_model_snr, koi_disposition\",\n",
    "    where = where_fal\n",
    ").to_pandas().dropna()\n",
    "\n",
    "# Step 3: Keep only one KOI per star (shortest period)\n",
    "confirmed_unique = confirmed.sort_values(\"koi_disposition\").drop_duplicates(subset=\"kepid\", keep=\"first\")\n",
    "false_unique = false_positives.sort_values(\"koi_disposition\").drop_duplicates(subset=\"kepid\", keep=\"first\")\n",
    "\n",
    "# print(len(confirmed_unique))\n",
    "# print(len(false_unique))\n",
    "\n",
    "# Step 4: Remove overlapping kepids (same star in both groups)\n",
    "overlap_kepids = set(confirmed_unique['kepid']).intersection(set(false_unique['kepid']))\n",
    "# print(f\"Number of overlapping kepids: {len(overlap_kepids)}\")\n",
    "\n",
    "confirmed_clean = confirmed_unique[~confirmed_unique['kepid'].isin(overlap_kepids)]\n",
    "false_clean = false_unique[~false_unique['kepid'].isin(overlap_kepids)]\n",
    "\n",
    "# Step 5: Sample 1000 unique stars from each class\n",
    "confirmed_sample = confirmed_clean.sample(n=125, random_state=42)\n",
    "false_sample = false_clean.sample(n=125, random_state=42)\n",
    "\n",
    "# Step 6: Combine and shuffle\n",
    "balanced_df = pd.concat([confirmed_sample, false_sample], ignore_index=True)\n",
    "balanced_df = balanced_df.sample(frac=1, random_state=42).reset_index(drop=True)\n",
    "\n",
    "# Step 7: Save to CSV\n",
    "balanced_df.to_csv(\"midSet.csv\", index=False)\n",
    "\n",
    "# Final check\n",
    "print(f\"Final dataset size: {len(balanced_df)} rows\")\n",
    "print(f\"Unique stars (kepid): {balanced_df['kepid'].nunique()}\")\n",
    "print(balanced_df.head())"
   ]
  },
  {
   "cell_type": "code",
   "execution_count": 5,
   "id": "a5eccf20",
   "metadata": {},
   "outputs": [
    {
     "name": "stdout",
     "output_type": "stream",
     "text": [
      "File 6387887.npz already exists. Skipping download.\n",
      "File 10748390.npz already exists. Skipping download.\n",
      "File 7529266.npz already exists. Skipping download.\n",
      "File 6061119.npz already exists. Skipping download.\n",
      "File 12557548.npz already exists. Skipping download.\n",
      "File 8374741.npz already exists. Skipping download.\n",
      "File 4819158.npz already exists. Skipping download.\n",
      "File 7031340.npz already exists. Skipping download.\n",
      "File 11194032.npz already exists. Skipping download.\n",
      "File 5966322.npz already exists. Skipping download.\n",
      "File 8832676.npz already exists. Skipping download.\n",
      "File 8179190.npz already exists. Skipping download.\n",
      "File 7698701.npz already exists. Skipping download.\n",
      "File 4483235.npz already exists. Skipping download.\n",
      "File 9450647.npz already exists. Skipping download.\n",
      "File 5560831.npz already exists. Skipping download.\n",
      "File 8442463.npz already exists. Skipping download.\n",
      "File 7366258.npz already exists. Skipping download.\n",
      "File 5022900.npz already exists. Skipping download.\n",
      "File 11027624.npz already exists. Skipping download.\n",
      "File 11400356.npz already exists. Skipping download.\n",
      "File 9157634.npz already exists. Skipping download.\n",
      "File 11403044.npz already exists. Skipping download.\n",
      "File 8711794.npz already exists. Skipping download.\n",
      "File 3117046.npz already exists. Skipping download.\n",
      "File 9643874.npz already exists. Skipping download.\n",
      "File 12116489.npz already exists. Skipping download.\n",
      "File 8678594.npz already exists. Skipping download.\n",
      "File 7109675.npz already exists. Skipping download.\n",
      "File 8349582.npz already exists. Skipping download.\n",
      "File 11456839.npz already exists. Skipping download.\n",
      "File 8394721.npz already exists. Skipping download.\n",
      "File 3560301.npz already exists. Skipping download.\n",
      "File 9953736.npz already exists. Skipping download.\n",
      "File 8565266.npz already exists. Skipping download.\n",
      "File 10187017.npz already exists. Skipping download.\n",
      "File 4076098.npz already exists. Skipping download.\n",
      "File 7670485.npz already exists. Skipping download.\n",
      "File 7700578.npz already exists. Skipping download.\n",
      "File 6685403.npz already exists. Skipping download.\n",
      "File 10937029.npz already exists. Skipping download.\n",
      "File 5780460.npz already exists. Skipping download.\n",
      "File 11046458.npz already exists. Skipping download.\n",
      "File 10991239.npz already exists. Skipping download.\n",
      "File 12644020.npz already exists. Skipping download.\n",
      "File 8162789.npz already exists. Skipping download.\n",
      "File 12257851.npz already exists. Skipping download.\n",
      "File 9757613.npz already exists. Skipping download.\n",
      "File 11087662.npz already exists. Skipping download.\n",
      "File 11812062.npz already exists. Skipping download.\n",
      "File 10729472.npz already exists. Skipping download.\n",
      "File 7035812.npz already exists. Skipping download.\n",
      "File 8123937.npz already exists. Skipping download.\n",
      "File 9478990.npz already exists. Skipping download.\n",
      "File 7691527.npz already exists. Skipping download.\n",
      "File 10858832.npz already exists. Skipping download.\n",
      "File 9710792.npz already exists. Skipping download.\n",
      "File 10427700.npz already exists. Skipping download.\n",
      "File 10581918.npz already exists. Skipping download.\n",
      "File 8126531.npz already exists. Skipping download.\n",
      "File 7779942.npz already exists. Skipping download.\n",
      "File 9463329.npz already exists. Skipping download.\n",
      "File 11359879.npz already exists. Skipping download.\n",
      "File 10005758.npz already exists. Skipping download.\n",
      "File 9692336.npz already exists. Skipping download.\n",
      "File 10268714.npz already exists. Skipping download.\n",
      "File 6205481.npz already exists. Skipping download.\n",
      "File 9818381.npz already exists. Skipping download.\n",
      "File 5031804.npz already exists. Skipping download.\n",
      "File 9962731.npz already exists. Skipping download.\n",
      "File 11623629.npz already exists. Skipping download.\n",
      "File 9119405.npz already exists. Skipping download.\n",
      "File 6291033.npz already exists. Skipping download.\n",
      "File 7585481.npz already exists. Skipping download.\n",
      "File 4927738.npz already exists. Skipping download.\n",
      "File 3937519.npz already exists. Skipping download.\n",
      "File 5088536.npz already exists. Skipping download.\n",
      "File 5616489.npz already exists. Skipping download.\n",
      "File 9388479.npz already exists. Skipping download.\n",
      "File 2987027.npz already exists. Skipping download.\n",
      "File 10123064.npz already exists. Skipping download.\n",
      "File 5436502.npz already exists. Skipping download.\n",
      "File 6515722.npz already exists. Skipping download.\n",
      "File 6583107.npz already exists. Skipping download.\n",
      "File 5471158.npz already exists. Skipping download.\n",
      "File 8107380.npz already exists. Skipping download.\n",
      "File 2854839.npz already exists. Skipping download.\n",
      "File 8008067.npz already exists. Skipping download.\n",
      "File 7936194.npz already exists. Skipping download.\n",
      "File 10847907.npz already exists. Skipping download.\n",
      "File 9458613.npz already exists. Skipping download.\n",
      "File 10925104.npz already exists. Skipping download.\n",
      "File 5881688.npz already exists. Skipping download.\n",
      "File 5437945.npz already exists. Skipping download.\n",
      "File 7849854.npz already exists. Skipping download.\n",
      "File 3344427.npz already exists. Skipping download.\n",
      "File 11853905.npz already exists. Skipping download.\n",
      "File 10264660.npz already exists. Skipping download.\n",
      "File 3218844.npz already exists. Skipping download.\n",
      "File 5972334.npz already exists. Skipping download.\n",
      "File 7303287.npz already exists. Skipping download.\n",
      "File 3217264.npz already exists. Skipping download.\n",
      "File 7115925.npz already exists. Skipping download.\n",
      "File 8487777.npz already exists. Skipping download.\n",
      "File 5735762.npz already exists. Skipping download.\n",
      "File 7046804.npz already exists. Skipping download.\n",
      "File 5164255.npz already exists. Skipping download.\n",
      "File 3650049.npz already exists. Skipping download.\n",
      "File 4914423.npz already exists. Skipping download.\n",
      "File 3851134.npz already exists. Skipping download.\n",
      "File 12735740.npz already exists. Skipping download.\n",
      "File 7938499.npz already exists. Skipping download.\n",
      "File 8979500.npz already exists. Skipping download.\n",
      "File 5288744.npz already exists. Skipping download.\n",
      "File 6149980.npz already exists. Skipping download.\n",
      "File 9702072.npz already exists. Skipping download.\n",
      "File 7950644.npz already exists. Skipping download.\n",
      "File 9579641.npz already exists. Skipping download.\n",
      "File 10795103.npz already exists. Skipping download.\n",
      "File 11304958.npz already exists. Skipping download.\n",
      "File 10139620.npz already exists. Skipping download.\n",
      "File 1995712.npz already exists. Skipping download.\n",
      "File 12253534.npz already exists. Skipping download.\n",
      "File 4349452.npz already exists. Skipping download.\n",
      "File 11401755.npz already exists. Skipping download.\n",
      "File 4729553.npz already exists. Skipping download.\n",
      "File 4565943.npz already exists. Skipping download.\n",
      "File 8559644.npz already exists. Skipping download.\n",
      "File 4664847.npz already exists. Skipping download.\n",
      "File 6022556.npz already exists. Skipping download.\n",
      "File 8104207.npz already exists. Skipping download.\n",
      "File 6032318.npz already exists. Skipping download.\n",
      "File 3861595.npz already exists. Skipping download.\n",
      "File 12004656.npz already exists. Skipping download.\n",
      "File 4832273.npz already exists. Skipping download.\n",
      "File 5184584.npz already exists. Skipping download.\n",
      "File 9304923.npz already exists. Skipping download.\n",
      "File 9141746.npz already exists. Skipping download.\n",
      "File 9479273.npz already exists. Skipping download.\n",
      "File 8491277.npz already exists. Skipping download.\n",
      "File 11966668.npz already exists. Skipping download.\n",
      "File 9827094.npz already exists. Skipping download.\n",
      "File 4732137.npz already exists. Skipping download.\n",
      "File 6508221.npz already exists. Skipping download.\n",
      "File 5090937.npz already exists. Skipping download.\n",
      "File 4856592.npz already exists. Skipping download.\n",
      "File 7918172.npz already exists. Skipping download.\n",
      "File 7592339.npz already exists. Skipping download.\n",
      "File 7132798.npz already exists. Skipping download.\n",
      "File 12506417.npz already exists. Skipping download.\n",
      "File 2444412.npz already exists. Skipping download.\n",
      "File 12403119.npz already exists. Skipping download.\n",
      "File 11649292.npz already exists. Skipping download.\n",
      "File 3351888.npz already exists. Skipping download.\n",
      "File 6849046.npz already exists. Skipping download.\n",
      "File 5513866.npz already exists. Skipping download.\n",
      "File 9480189.npz already exists. Skipping download.\n",
      "File 7017437.npz already exists. Skipping download.\n",
      "File 4147171.npz already exists. Skipping download.\n",
      "File 3749365.npz already exists. Skipping download.\n",
      "File 9775938.npz already exists. Skipping download.\n",
      "File 7214090.npz already exists. Skipping download.\n",
      "File 7434875.npz already exists. Skipping download.\n",
      "File 9595827.npz already exists. Skipping download.\n",
      "File 5031882.npz already exists. Skipping download.\n",
      "File 10023069.npz already exists. Skipping download.\n",
      "File 10616679.npz already exists. Skipping download.\n",
      "File 6342980.npz already exists. Skipping download.\n",
      "File 7818447.npz already exists. Skipping download.\n",
      "File 12356617.npz already exists. Skipping download.\n",
      "File 7447200.npz already exists. Skipping download.\n",
      "File 8030148.npz already exists. Skipping download.\n",
      "File 10098534.npz already exists. Skipping download.\n",
      "File 10031500.npz already exists. Skipping download.\n",
      "File 5989391.npz already exists. Skipping download.\n",
      "File 2972800.npz already exists. Skipping download.\n",
      "File 9471974.npz already exists. Skipping download.\n",
      "File 12008916.npz already exists. Skipping download.\n",
      "File 9663113.npz already exists. Skipping download.\n",
      "File 8544996.npz already exists. Skipping download.\n",
      "File 5529552.npz already exists. Skipping download.\n",
      "File 6462863.npz already exists. Skipping download.\n",
      "File 6611779.npz already exists. Skipping download.\n",
      "File 5792202.npz already exists. Skipping download.\n",
      "File 11391018.npz already exists. Skipping download.\n",
      "File 10386922.npz already exists. Skipping download.\n",
      "File 6359820.npz already exists. Skipping download.\n",
      "File 11922290.npz already exists. Skipping download.\n",
      "File 7831264.npz already exists. Skipping download.\n",
      "File 4164994.npz already exists. Skipping download.\n",
      "File 9390653.npz already exists. Skipping download.\n",
      "File 8043638.npz already exists. Skipping download.\n",
      "File 10399137.npz already exists. Skipping download.\n",
      "File 9875101.npz already exists. Skipping download.\n",
      "File 2571238.npz already exists. Skipping download.\n",
      "File 4073089.npz already exists. Skipping download.\n",
      "File 4150804.npz already exists. Skipping download.\n",
      "File 7281484.npz already exists. Skipping download.\n",
      "File 3644649.npz already exists. Skipping download.\n",
      "File 8043721.npz already exists. Skipping download.\n",
      "File 5091808.npz already exists. Skipping download.\n",
      "File 8751933.npz already exists. Skipping download.\n",
      "File 9844088.npz already exists. Skipping download.\n",
      "File 7269974.npz already exists. Skipping download.\n",
      "File 12020329.npz already exists. Skipping download.\n",
      "File 7189825.npz already exists. Skipping download.\n",
      "File 7770471.npz already exists. Skipping download.\n",
      "File 2581191.npz already exists. Skipping download.\n",
      "Downloading: 2568971\n"
     ]
    },
    {
     "name": "stderr",
     "output_type": "stream",
     "text": [
      "WARNING: TimeDeltaMissingUnitWarning: Numerical value without unit or explicit format passed to TimeDelta, assuming days [astropy.time.core]\n"
     ]
    },
    {
     "name": "stdout",
     "output_type": "stream",
     "text": [
      "4910\n",
      "Downloaded: 2568971\n",
      "Downloading: 11501492\n"
     ]
    },
    {
     "name": "stderr",
     "output_type": "stream",
     "text": [
      "WARNING: TimeDeltaMissingUnitWarning: Numerical value without unit or explicit format passed to TimeDelta, assuming days [astropy.time.core]\n"
     ]
    },
    {
     "name": "stdout",
     "output_type": "stream",
     "text": [
      "205\n",
      "Downloaded: 11501492\n",
      "Downloading: 6205384\n"
     ]
    },
    {
     "name": "stderr",
     "output_type": "stream",
     "text": [
      "WARNING: TimeDeltaMissingUnitWarning: Numerical value without unit or explicit format passed to TimeDelta, assuming days [astropy.time.core]\n"
     ]
    },
    {
     "name": "stdout",
     "output_type": "stream",
     "text": [
      "7515\n",
      "Downloaded: 6205384\n",
      "Downloading: 4067110\n"
     ]
    },
    {
     "name": "stderr",
     "output_type": "stream",
     "text": [
      "WARNING: TimeDeltaMissingUnitWarning: Numerical value without unit or explicit format passed to TimeDelta, assuming days [astropy.time.core]\n"
     ]
    },
    {
     "name": "stdout",
     "output_type": "stream",
     "text": [
      "20242\n",
      "Downloaded: 4067110\n",
      "Downloading: 7024045\n"
     ]
    },
    {
     "name": "stderr",
     "output_type": "stream",
     "text": [
      "WARNING: TimeDeltaMissingUnitWarning: Numerical value without unit or explicit format passed to TimeDelta, assuming days [astropy.time.core]\n"
     ]
    },
    {
     "name": "stdout",
     "output_type": "stream",
     "text": [
      "221\n",
      "Downloaded: 7024045\n",
      "Downloading: 6504954\n"
     ]
    },
    {
     "name": "stderr",
     "output_type": "stream",
     "text": [
      "WARNING: TimeDeltaMissingUnitWarning: Numerical value without unit or explicit format passed to TimeDelta, assuming days [astropy.time.core]\n"
     ]
    },
    {
     "name": "stdout",
     "output_type": "stream",
     "text": [
      "183\n",
      "Downloaded: 6504954\n",
      "Downloading: 11414511\n"
     ]
    },
    {
     "name": "stderr",
     "output_type": "stream",
     "text": [
      "WARNING: TimeDeltaMissingUnitWarning: Numerical value without unit or explicit format passed to TimeDelta, assuming days [astropy.time.core]\n"
     ]
    },
    {
     "name": "stdout",
     "output_type": "stream",
     "text": [
      "2889\n",
      "Downloaded: 11414511\n",
      "Downloading: 757450\n"
     ]
    },
    {
     "name": "stderr",
     "output_type": "stream",
     "text": [
      "WARNING: TimeDeltaMissingUnitWarning: Numerical value without unit or explicit format passed to TimeDelta, assuming days [astropy.time.core]\n"
     ]
    },
    {
     "name": "stdout",
     "output_type": "stream",
     "text": [
      "771\n",
      "Downloaded: 757450\n",
      "Downloading: 3323887\n"
     ]
    },
    {
     "name": "stderr",
     "output_type": "stream",
     "text": [
      "WARNING: TimeDeltaMissingUnitWarning: Numerical value without unit or explicit format passed to TimeDelta, assuming days [astropy.time.core]\n"
     ]
    },
    {
     "name": "stdout",
     "output_type": "stream",
     "text": [
      "700\n",
      "Downloaded: 3323887\n",
      "Downloading: 6678383\n"
     ]
    },
    {
     "name": "stderr",
     "output_type": "stream",
     "text": [
      "WARNING: TimeDeltaMissingUnitWarning: Numerical value without unit or explicit format passed to TimeDelta, assuming days [astropy.time.core]\n"
     ]
    },
    {
     "name": "stdout",
     "output_type": "stream",
     "text": [
      "1212\n",
      "Downloaded: 6678383\n",
      "Downloading: 3866536\n"
     ]
    },
    {
     "name": "stderr",
     "output_type": "stream",
     "text": [
      "WARNING: TimeDeltaMissingUnitWarning: Numerical value without unit or explicit format passed to TimeDelta, assuming days [astropy.time.core]\n"
     ]
    },
    {
     "name": "stdout",
     "output_type": "stream",
     "text": [
      "33522\n",
      "Downloaded: 3866536\n",
      "Downloading: 6421137\n"
     ]
    },
    {
     "name": "stderr",
     "output_type": "stream",
     "text": [
      "WARNING: TimeDeltaMissingUnitWarning: Numerical value without unit or explicit format passed to TimeDelta, assuming days [astropy.time.core]\n"
     ]
    },
    {
     "name": "stdout",
     "output_type": "stream",
     "text": [
      "159\n",
      "Downloaded: 6421137\n",
      "Downloading: 6032920\n"
     ]
    },
    {
     "name": "stderr",
     "output_type": "stream",
     "text": [
      "WARNING: TimeDeltaMissingUnitWarning: Numerical value without unit or explicit format passed to TimeDelta, assuming days [astropy.time.core]\n"
     ]
    },
    {
     "name": "stdout",
     "output_type": "stream",
     "text": [
      "216\n",
      "Downloaded: 6032920\n",
      "Downloading: 8309169\n"
     ]
    },
    {
     "name": "stderr",
     "output_type": "stream",
     "text": [
      "WARNING: TimeDeltaMissingUnitWarning: Numerical value without unit or explicit format passed to TimeDelta, assuming days [astropy.time.core]\n"
     ]
    },
    {
     "name": "stdout",
     "output_type": "stream",
     "text": [
      "43\n",
      "Downloaded: 8309169\n",
      "Downloading: 7106438\n"
     ]
    },
    {
     "name": "stderr",
     "output_type": "stream",
     "text": [
      "WARNING: TimeDeltaMissingUnitWarning: Numerical value without unit or explicit format passed to TimeDelta, assuming days [astropy.time.core]\n"
     ]
    },
    {
     "name": "stdout",
     "output_type": "stream",
     "text": [
      "60\n",
      "Downloaded: 7106438\n",
      "Downloading: 4073730\n"
     ]
    },
    {
     "name": "stderr",
     "output_type": "stream",
     "text": [
      "WARNING: TimeDeltaMissingUnitWarning: Numerical value without unit or explicit format passed to TimeDelta, assuming days [astropy.time.core]\n"
     ]
    },
    {
     "name": "stdout",
     "output_type": "stream",
     "text": [
      "3738\n",
      "Downloaded: 4073730\n",
      "Downloading: 11442793\n"
     ]
    },
    {
     "name": "stderr",
     "output_type": "stream",
     "text": [
      "WARNING: TimeDeltaMissingUnitWarning: Numerical value without unit or explicit format passed to TimeDelta, assuming days [astropy.time.core]\n"
     ]
    },
    {
     "name": "stdout",
     "output_type": "stream",
     "text": [
      "116\n",
      "Downloaded: 11442793\n",
      "Downloading: 10934313\n"
     ]
    },
    {
     "name": "stderr",
     "output_type": "stream",
     "text": [
      "WARNING: TimeDeltaMissingUnitWarning: Numerical value without unit or explicit format passed to TimeDelta, assuming days [astropy.time.core]\n"
     ]
    },
    {
     "name": "stdout",
     "output_type": "stream",
     "text": [
      "2046\n",
      "Downloaded: 10934313\n",
      "Downloading: 10132552\n"
     ]
    },
    {
     "name": "stderr",
     "output_type": "stream",
     "text": [
      "WARNING: TimeDeltaMissingUnitWarning: Numerical value without unit or explicit format passed to TimeDelta, assuming days [astropy.time.core]\n"
     ]
    },
    {
     "name": "stdout",
     "output_type": "stream",
     "text": [
      "38\n",
      "Downloaded: 10132552\n",
      "Downloading: 6541920\n"
     ]
    },
    {
     "name": "stderr",
     "output_type": "stream",
     "text": [
      "WARNING: TimeDeltaMissingUnitWarning: Numerical value without unit or explicit format passed to TimeDelta, assuming days [astropy.time.core]\n"
     ]
    },
    {
     "name": "stdout",
     "output_type": "stream",
     "text": [
      "422\n",
      "Downloaded: 6541920\n",
      "Downloading: 3935914\n"
     ]
    },
    {
     "name": "stderr",
     "output_type": "stream",
     "text": [
      "WARNING: TimeDeltaMissingUnitWarning: Numerical value without unit or explicit format passed to TimeDelta, assuming days [astropy.time.core]\n"
     ]
    },
    {
     "name": "stdout",
     "output_type": "stream",
     "text": [
      "4240\n",
      "Downloaded: 3935914\n",
      "Downloading: 7662209\n"
     ]
    },
    {
     "name": "stderr",
     "output_type": "stream",
     "text": [
      "WARNING: TimeDeltaMissingUnitWarning: Numerical value without unit or explicit format passed to TimeDelta, assuming days [astropy.time.core]\n"
     ]
    },
    {
     "name": "stdout",
     "output_type": "stream",
     "text": [
      "633\n",
      "Downloaded: 7662209\n",
      "Downloading: 10351767\n"
     ]
    },
    {
     "name": "stderr",
     "output_type": "stream",
     "text": [
      "WARNING: TimeDeltaMissingUnitWarning: Numerical value without unit or explicit format passed to TimeDelta, assuming days [astropy.time.core]\n"
     ]
    },
    {
     "name": "stdout",
     "output_type": "stream",
     "text": [
      "10436\n",
      "Downloaded: 10351767\n",
      "Downloading: 3858919\n"
     ]
    },
    {
     "name": "stderr",
     "output_type": "stream",
     "text": [
      "WARNING: TimeDeltaMissingUnitWarning: Numerical value without unit or explicit format passed to TimeDelta, assuming days [astropy.time.core]\n"
     ]
    },
    {
     "name": "stdout",
     "output_type": "stream",
     "text": [
      "1423\n",
      "Downloaded: 3858919\n",
      "Downloading: 10910878\n"
     ]
    },
    {
     "name": "stderr",
     "output_type": "stream",
     "text": [
      "WARNING: TimeDeltaMissingUnitWarning: Numerical value without unit or explicit format passed to TimeDelta, assuming days [astropy.time.core]\n"
     ]
    },
    {
     "name": "stdout",
     "output_type": "stream",
     "text": [
      "695\n",
      "Downloaded: 10910878\n",
      "Downloading: 8822216\n"
     ]
    },
    {
     "name": "stderr",
     "output_type": "stream",
     "text": [
      "WARNING: TimeDeltaMissingUnitWarning: Numerical value without unit or explicit format passed to TimeDelta, assuming days [astropy.time.core]\n"
     ]
    },
    {
     "name": "stdout",
     "output_type": "stream",
     "text": [
      "1252\n",
      "Downloaded: 8822216\n",
      "Downloading: 5864975\n"
     ]
    },
    {
     "name": "stderr",
     "output_type": "stream",
     "text": [
      "WARNING: TimeDeltaMissingUnitWarning: Numerical value without unit or explicit format passed to TimeDelta, assuming days [astropy.time.core]\n"
     ]
    },
    {
     "name": "stdout",
     "output_type": "stream",
     "text": [
      "225\n",
      "Downloaded: 5864975\n",
      "Downloading: 12470954\n"
     ]
    },
    {
     "name": "stderr",
     "output_type": "stream",
     "text": [
      "WARNING: TimeDeltaMissingUnitWarning: Numerical value without unit or explicit format passed to TimeDelta, assuming days [astropy.time.core]\n"
     ]
    },
    {
     "name": "stdout",
     "output_type": "stream",
     "text": [
      "3761\n",
      "Downloaded: 12470954\n",
      "Downloading: 10614158\n"
     ]
    },
    {
     "name": "stderr",
     "output_type": "stream",
     "text": [
      "WARNING: TimeDeltaMissingUnitWarning: Numerical value without unit or explicit format passed to TimeDelta, assuming days [astropy.time.core]\n"
     ]
    },
    {
     "name": "stdout",
     "output_type": "stream",
     "text": [
      "3258\n",
      "Downloaded: 10614158\n",
      "Downloading: 10489206\n"
     ]
    },
    {
     "name": "stderr",
     "output_type": "stream",
     "text": [
      "WARNING: TimeDeltaMissingUnitWarning: Numerical value without unit or explicit format passed to TimeDelta, assuming days [astropy.time.core]\n"
     ]
    },
    {
     "name": "stdout",
     "output_type": "stream",
     "text": [
      "1409\n",
      "Downloaded: 10489206\n",
      "Downloading: 5112198\n"
     ]
    },
    {
     "name": "stderr",
     "output_type": "stream",
     "text": [
      "WARNING: TimeDeltaMissingUnitWarning: Numerical value without unit or explicit format passed to TimeDelta, assuming days [astropy.time.core]\n"
     ]
    },
    {
     "name": "stdout",
     "output_type": "stream",
     "text": [
      "16209\n",
      "Downloaded: 5112198\n",
      "Downloading: 9941550\n"
     ]
    },
    {
     "name": "stderr",
     "output_type": "stream",
     "text": [
      "WARNING: TimeDeltaMissingUnitWarning: Numerical value without unit or explicit format passed to TimeDelta, assuming days [astropy.time.core]\n"
     ]
    },
    {
     "name": "stdout",
     "output_type": "stream",
     "text": [
      "38\n",
      "Downloaded: 9941550\n",
      "Downloading: 8561063\n"
     ]
    },
    {
     "name": "stderr",
     "output_type": "stream",
     "text": [
      "WARNING: TimeDeltaMissingUnitWarning: Numerical value without unit or explicit format passed to TimeDelta, assuming days [astropy.time.core]\n"
     ]
    },
    {
     "name": "stdout",
     "output_type": "stream",
     "text": [
      "1480\n",
      "Downloaded: 8561063\n",
      "Downloading: 9592831\n"
     ]
    },
    {
     "name": "stderr",
     "output_type": "stream",
     "text": [
      "WARNING: TimeDeltaMissingUnitWarning: Numerical value without unit or explicit format passed to TimeDelta, assuming days [astropy.time.core]\n"
     ]
    },
    {
     "name": "stdout",
     "output_type": "stream",
     "text": [
      "8570\n",
      "Downloaded: 9592831\n",
      "Downloading: 3835670\n"
     ]
    },
    {
     "name": "stderr",
     "output_type": "stream",
     "text": [
      "WARNING: TimeDeltaMissingUnitWarning: Numerical value without unit or explicit format passed to TimeDelta, assuming days [astropy.time.core]\n"
     ]
    },
    {
     "name": "stdout",
     "output_type": "stream",
     "text": [
      "1743\n",
      "Downloaded: 3835670\n",
      "Downloading: 4476423\n"
     ]
    },
    {
     "name": "stderr",
     "output_type": "stream",
     "text": [
      "WARNING: TimeDeltaMissingUnitWarning: Numerical value without unit or explicit format passed to TimeDelta, assuming days [astropy.time.core]\n"
     ]
    },
    {
     "name": "stdout",
     "output_type": "stream",
     "text": [
      "1116\n",
      "Downloaded: 4476423\n",
      "Downloading: 8255887\n"
     ]
    },
    {
     "name": "stderr",
     "output_type": "stream",
     "text": [
      "WARNING: TimeDeltaMissingUnitWarning: Numerical value without unit or explicit format passed to TimeDelta, assuming days [astropy.time.core]\n"
     ]
    },
    {
     "name": "stdout",
     "output_type": "stream",
     "text": [
      "2187\n",
      "Downloaded: 8255887\n",
      "Downloading: 8026752\n"
     ]
    },
    {
     "name": "stderr",
     "output_type": "stream",
     "text": [
      "WARNING: TimeDeltaMissingUnitWarning: Numerical value without unit or explicit format passed to TimeDelta, assuming days [astropy.time.core]\n"
     ]
    },
    {
     "name": "stdout",
     "output_type": "stream",
     "text": [
      "3421\n",
      "Downloaded: 8026752\n",
      "Downloading: 7898352\n"
     ]
    },
    {
     "name": "stderr",
     "output_type": "stream",
     "text": [
      "WARNING: TimeDeltaMissingUnitWarning: Numerical value without unit or explicit format passed to TimeDelta, assuming days [astropy.time.core]\n"
     ]
    },
    {
     "name": "stdout",
     "output_type": "stream",
     "text": [
      "178\n",
      "Downloaded: 7898352\n",
      "Downloading: 9631995\n"
     ]
    },
    {
     "name": "stderr",
     "output_type": "stream",
     "text": [
      "WARNING: TimeDeltaMissingUnitWarning: Numerical value without unit or explicit format passed to TimeDelta, assuming days [astropy.time.core]\n"
     ]
    },
    {
     "name": "stdout",
     "output_type": "stream",
     "text": [
      "1587\n",
      "Downloaded: 9631995\n",
      "Downloading: 5476671\n"
     ]
    },
    {
     "name": "stderr",
     "output_type": "stream",
     "text": [
      "WARNING: TimeDeltaMissingUnitWarning: Numerical value without unit or explicit format passed to TimeDelta, assuming days [astropy.time.core]\n"
     ]
    },
    {
     "name": "stdout",
     "output_type": "stream",
     "text": [
      "9787\n",
      "Downloaded: 5476671\n",
      "Downloading: 5031857\n",
      "414\n",
      "Downloaded: 5031857\n"
     ]
    },
    {
     "name": "stderr",
     "output_type": "stream",
     "text": [
      "WARNING: TimeDeltaMissingUnitWarning: Numerical value without unit or explicit format passed to TimeDelta, assuming days [astropy.time.core]\n"
     ]
    }
   ],
   "source": [
    "%matplotlib inline\n",
    "import lightkurve as lk\n",
    "import numpy as np\n",
    "import matplotlib.pyplot as plt\n",
    "import pandas as pd\n",
    "import os\n",
    "\n",
    "df = pd.read_csv(\"midSet.csv\")\n",
    "kepids = df[\"kepid\"].unique().tolist()\n",
    "curve_length = 100\n",
    "buffer_factor = 2\n",
    "\n",
    "for kepid in kepids:\n",
    "    if os.path.exists(f\"curvesBig/{kepid}.npz\"):\n",
    "        print(f\"File {kepid}.npz already exists. Skipping download.\")\n",
    "        continue  # Skip the rest of the loop if the file already exists\n",
    "    print(\"Downloading: \" + str(kepid))\n",
    "\n",
    "    row = df.loc[df[\"kepid\"] == kepid]\n",
    "    period = row.iloc[0][\"koi_period\"]\n",
    "    t0 = row.iloc[0][\"koi_time0bk\"]\n",
    "    dur = row.iloc[0][\"koi_duration\"]\n",
    "    fractional_duration = (dur / 24.0) / period\n",
    "\n",
    "    lc = lk.search_lightcurve(\"KIC \" + str(kepid), mission=\"Kepler\", cadence = \"long\", limit = 10, author=\"Kepler\").download_all().stitch()\n",
    "    lc = lc.remove_nans()\n",
    "\n",
    "    lc_flat = lc.flatten()\n",
    "\n",
    "    lc_fold = lc_flat.fold(period, epoch_time=t0)\n",
    "\n",
    "    window_half_width = fractional_duration * buffer_factor\n",
    "    phase_mask = (lc_fold.phase > -(dur/24*0.5)*buffer_factor) & (lc_fold.phase < (dur/24*0.5)*buffer_factor)\n",
    "\n",
    "    lc_zoom = lc_fold[phase_mask]\n",
    "    print(len(lc_zoom))\n",
    "\n",
    "    time = lc_zoom.time.value\n",
    "    flux = lc_zoom.flux.value\n",
    "\n",
    "    # Normalize time for interpolation\n",
    "    t_min, t_max = time.min(), time.max()\n",
    "    time_norm = (time - t_min) / (t_max - t_min)\n",
    "    new_time_norm = np.linspace(0, 1, curve_length)\n",
    "\n",
    "    # Interpolate flux to uniform time steps\n",
    "    new_flux = np.interp(new_time_norm, time_norm, flux)\n",
    "    new_time = np.linspace(t_min, t_max, curve_length)\n",
    "\n",
    "    np.savez(f\"curvesBig/{kepid}.npz\", time=new_time, flux=new_flux)\n",
    "    print(\"Downloaded: \" + str(kepid))\n",
    "    \n"
   ]
  },
  {
   "cell_type": "code",
   "execution_count": null,
   "id": "4b64efeb",
   "metadata": {},
   "outputs": [],
   "source": [
    "%matplotlib inline\n",
    "import lightkurve as lk\n",
    "import numpy as np\n",
    "import matplotlib.pyplot as plt\n",
    "import pandas as pd\n",
    "\n",
    "kepid = 3117046\n",
    "df = pd.read_csv(\"midSet.csv\")\n",
    "\n",
    "row = df.loc[df[\"kepid\"] == kepid]\n",
    "period = row.iloc[0][\"koi_period\"]\n",
    "t0 = row.iloc[0][\"koi_time0bk\"]\n",
    "dur = row.iloc[0][\"koi_duration\"]\n",
    "\n",
    "fractional_duration = (dur / 24.0) / period\n",
    "\n",
    "print(row)\n",
    "\n",
    "# test with KIC 757450 and 8672910 for confirmed, 9839062 is a cool FP that shows a secondary eclipse i think\n",
    "lc = lk.search_lightcurve(\"KIC \" + str(kepid), mission=\"Kepler\", cadence = \"long\", limit = 10).download_all().stitch()\n",
    "lc = lc.remove_nans()\n",
    "# lc.scatter()\n",
    "\n",
    "lc_flat = lc.flatten()\n",
    "# lc_flat.scatter()\n",
    "\n",
    "lc_fold = lc_flat.fold(period, epoch_time=t0)\n",
    "lc_fold.scatter()\n",
    "\n",
    "# How many full durations to include before/after mid-transit? (1 will include show the entire duration, 2 will show the duration and a bit more on the sides)\n",
    "buffer_factor = 2\n",
    "\n",
    "window_half_width = fractional_duration * buffer_factor\n",
    "phase_mask = (lc_fold.phase > -(dur/24*0.5)*buffer_factor) & (lc_fold.phase < (dur/24*0.5)*buffer_factor)\n",
    "\n",
    "lc_zoom = lc_fold[phase_mask]\n",
    "# print(len(lc_zoom))\n",
    "# lc_zoom.scatter()\n",
    "\n",
    "time_span = lc_zoom.time.max() - lc_zoom.time.min()\n",
    "\n",
    "# Choose a fixed length\n",
    "curve_length = 100\n",
    "\n",
    "time_bin_size = (time_span).value / curve_length\n",
    "\n",
    "lc_local = lc_zoom.bin(time_bin_size=time_bin_size).normalize()\n",
    "lc_local = (lc_local / np.abs(np.nanmin(lc_local.flux)))\n",
    "# lc_local.scatter()\n",
    "# print(len(lc_local))\n",
    "\n",
    "lc_trunc = lc_local.head(curve_length).remove_nans()\n",
    "lc_trunc.scatter()\n",
    "print(len(lc_trunc))"
   ]
  },
  {
   "cell_type": "code",
   "execution_count": 29,
   "id": "e474f941",
   "metadata": {},
   "outputs": [
    {
     "name": "stdout",
     "output_type": "stream",
     "text": [
      "      kepid  koi_period  koi_duration  koi_time0bk  koi_depth  koi_model_snr  \\\n",
      "215  757450    8.884923       2.07004   169.991686    16053.4          388.2   \n",
      "\n",
      "    koi_disposition  \n",
      "215       CONFIRMED  \n"
     ]
    },
    {
     "name": "stderr",
     "output_type": "stream",
     "text": [
      "WARNING: TimeDeltaMissingUnitWarning: Numerical value without unit or explicit format passed to TimeDelta, assuming days [astropy.time.core]\n"
     ]
    },
    {
     "data": {
      "text/plain": [
       "<Axes: xlabel='Time [JD]', ylabel='Flux'>"
      ]
     },
     "execution_count": 29,
     "metadata": {},
     "output_type": "execute_result"
    },
    {
     "data": {
      "image/png": "[encoded data removed]",
      "text/plain": [
       "<Figure size 848.5x400 with 1 Axes>"
      ]
     },
     "metadata": {},
     "output_type": "display_data"
    },
    {
     "data": {
      "image/png": "[encoded data removed]",
      "text/plain": [
       "<Figure size 848.5x400 with 1 Axes>"
      ]
     },
     "metadata": {},
     "output_type": "display_data"
    },
    {
     "data": {
      "image/png": "[encoded data removed]",
      "text/plain": [
       "<Figure size 848.5x400 with 1 Axes>"
      ]
     },
     "metadata": {},
     "output_type": "display_data"
    }
   ],
   "source": [
    "%matplotlib inline\n",
    "import lightkurve as lk\n",
    "import numpy as np\n",
    "import matplotlib.pyplot as plt\n",
    "import pandas as pd\n",
    "\n",
    "kepid = 757450\n",
    "curve_length = 100\n",
    "df = pd.read_csv(\"midSet.csv\")\n",
    "\n",
    "row = df.loc[df[\"kepid\"] == kepid]\n",
    "period = row.iloc[0][\"koi_period\"]\n",
    "t0 = row.iloc[0][\"koi_time0bk\"]\n",
    "dur = row.iloc[0][\"koi_duration\"]\n",
    "\n",
    "fractional_duration = (dur / 24.0) / period\n",
    "\n",
    "print(row)\n",
    "\n",
    "# test with KIC 757450 and 8672910 for confirmed, 9839062 is a cool FP that shows a secondary eclipse i think\n",
    "lc = lk.search_lightcurve(\"KIC \" + str(kepid), mission=\"Kepler\", cadence = \"long\", limit = 6).download_all().stitch()\n",
    "lc = lc.remove_nans()\n",
    "# lc.scatter()\n",
    "\n",
    "lc_flat = lc.flatten()\n",
    "# lc_flat.scatter()\n",
    "\n",
    "lc_fold = lc_flat.fold(period, epoch_time=t0)\n",
    "lc_fold.scatter()\n",
    "\n",
    "# How many full durations to include before/after mid-transit? (1 will include show the entire duration, 2 will show the duration and a bit more on the sides)\n",
    "buffer_factor = 2\n",
    "\n",
    "window_half_width = fractional_duration * buffer_factor\n",
    "phase_mask = (lc_fold.phase > -(dur/24*0.5)*buffer_factor) & (lc_fold.phase < (dur/24*0.5)*buffer_factor)\n",
    "\n",
    "lc_zoom = lc_fold[phase_mask]\n",
    "# lc_zoom.scatter()\n",
    "\n",
    "time = lc_zoom.time.value\n",
    "flux = lc_zoom.flux.value\n",
    "\n",
    "# Normalize time for interpolation\n",
    "t_min, t_max = time.min(), time.max()\n",
    "time_norm = (time - t_min) / (t_max - t_min)\n",
    "new_time_norm = np.linspace(0, 1, curve_length)\n",
    "\n",
    "# Interpolate flux to uniform time steps\n",
    "new_flux = np.interp(new_time_norm, time_norm, flux)\n",
    "new_time = np.linspace(t_min, t_max, curve_length)\n",
    "\n",
    "int_lc = lk.LightCurve(time = new_time, flux = new_flux)\n",
    "int_lc.scatter()\n",
    "\n",
    "np.savez(\"testCurve/\" + str(kepid) + \".npz\", time=new_time, flux=new_flux)\n",
    "\n",
    "data = np.load(\"testCurve/\" + str(kepid) + \".npz\")\n",
    "\n",
    "time = data['time']\n",
    "flux = data['flux']\n",
    "\n",
    "lc_load = lk.LightCurve(time=time,flux=flux)\n",
    "lc_load.scatter()\n",
    "\n",
    "# print(len(int_lc))"
   ]
  },
  {
   "cell_type": "code",
   "execution_count": 18,
   "id": "670fc51c",
   "metadata": {},
   "outputs": [
    {
     "name": "stdout",
     "output_type": "stream",
     "text": [
      "Loading light curves...\n",
      "Loaded 250 light curves.\n",
      "Padding sequences...\n",
      "200\n",
      "Building model...\n",
      "Training model...\n",
      "Epoch 1/100\n"
     ]
    },
    {
     "name": "stderr",
     "output_type": "stream",
     "text": [
      "c:\\Users\\jarvi\\AppData\\Local\\Programs\\Python\\Python310\\lib\\site-packages\\keras\\src\\layers\\core\\masking.py:48: UserWarning: Do not pass an `input_shape`/`input_dim` argument to a layer. When using Sequential models, prefer using an `Input(shape)` object as the first layer in the model instead.\n",
      "  super().__init__(**kwargs)\n"
     ]
    },
    {
     "name": "stdout",
     "output_type": "stream",
     "text": [
      "\u001b[1m7/7\u001b[0m \u001b[32m━━━━━━━━━━━━━━━━━━━━\u001b[0m\u001b[37m\u001b[0m \u001b[1m5s\u001b[0m 183ms/step - accuracy: 0.5086 - loss: 0.6953 - val_accuracy: 0.5000 - val_loss: 0.6928\n",
      "Epoch 2/100\n",
      "\u001b[1m7/7\u001b[0m \u001b[32m━━━━━━━━━━━━━━━━━━━━\u001b[0m\u001b[37m\u001b[0m \u001b[1m1s\u001b[0m 107ms/step - accuracy: 0.5903 - loss: 0.6905 - val_accuracy: 0.5000 - val_loss: 0.6932\n",
      "Epoch 3/100\n",
      "\u001b[1m7/7\u001b[0m \u001b[32m━━━━━━━━━━━━━━━━━━━━\u001b[0m\u001b[37m\u001b[0m \u001b[1m1s\u001b[0m 106ms/step - accuracy: 0.6107 - loss: 0.6744 - val_accuracy: 0.4600 - val_loss: 0.6890\n",
      "Epoch 4/100\n",
      "\u001b[1m7/7\u001b[0m \u001b[32m━━━━━━━━━━━━━━━━━━━━\u001b[0m\u001b[37m\u001b[0m \u001b[1m1s\u001b[0m 107ms/step - accuracy: 0.5620 - loss: 0.6622 - val_accuracy: 0.5000 - val_loss: 0.6676\n",
      "Epoch 5/100\n",
      "\u001b[1m7/7\u001b[0m \u001b[32m━━━━━━━━━━━━━━━━━━━━\u001b[0m\u001b[37m\u001b[0m \u001b[1m1s\u001b[0m 107ms/step - accuracy: 0.5565 - loss: 0.6643 - val_accuracy: 0.4800 - val_loss: 0.6756\n",
      "Epoch 6/100\n",
      "\u001b[1m7/7\u001b[0m \u001b[32m━━━━━━━━━━━━━━━━━━━━\u001b[0m\u001b[37m\u001b[0m \u001b[1m1s\u001b[0m 107ms/step - accuracy: 0.6288 - loss: 0.6990 - val_accuracy: 0.9200 - val_loss: 0.6282\n",
      "Epoch 7/100\n",
      "\u001b[1m7/7\u001b[0m \u001b[32m━━━━━━━━━━━━━━━━━━━━\u001b[0m\u001b[37m\u001b[0m \u001b[1m1s\u001b[0m 107ms/step - accuracy: 0.7007 - loss: 0.6300 - val_accuracy: 0.5000 - val_loss: 0.6915\n",
      "Epoch 8/100\n",
      "\u001b[1m7/7\u001b[0m \u001b[32m━━━━━━━━━━━━━━━━━━━━\u001b[0m\u001b[37m\u001b[0m \u001b[1m1s\u001b[0m 107ms/step - accuracy: 0.5653 - loss: 0.6606 - val_accuracy: 0.5000 - val_loss: 0.6778\n",
      "Epoch 9/100\n",
      "\u001b[1m7/7\u001b[0m \u001b[32m━━━━━━━━━━━━━━━━━━━━\u001b[0m\u001b[37m\u001b[0m \u001b[1m1s\u001b[0m 111ms/step - accuracy: 0.5536 - loss: 0.6558 - val_accuracy: 0.5200 - val_loss: 0.6610\n",
      "Epoch 10/100\n",
      "\u001b[1m7/7\u001b[0m \u001b[32m━━━━━━━━━━━━━━━━━━━━\u001b[0m\u001b[37m\u001b[0m \u001b[1m1s\u001b[0m 108ms/step - accuracy: 0.5990 - loss: 0.6602 - val_accuracy: 0.5200 - val_loss: 0.6613\n",
      "Epoch 11/100\n",
      "\u001b[1m7/7\u001b[0m \u001b[32m━━━━━━━━━━━━━━━━━━━━\u001b[0m\u001b[37m\u001b[0m \u001b[1m1s\u001b[0m 108ms/step - accuracy: 0.6545 - loss: 0.6579 - val_accuracy: 0.8600 - val_loss: 0.6583\n",
      "Epoch 12/100\n",
      "\u001b[1m7/7\u001b[0m \u001b[32m━━━━━━━━━━━━━━━━━━━━\u001b[0m\u001b[37m\u001b[0m \u001b[1m1s\u001b[0m 107ms/step - accuracy: 0.6355 - loss: 0.6613 - val_accuracy: 0.9400 - val_loss: 0.6549\n",
      "Epoch 13/100\n",
      "\u001b[1m7/7\u001b[0m \u001b[32m━━━━━━━━━━━━━━━━━━━━\u001b[0m\u001b[37m\u001b[0m \u001b[1m1s\u001b[0m 111ms/step - accuracy: 0.5823 - loss: 0.6468 - val_accuracy: 0.5000 - val_loss: 0.6532\n",
      "Epoch 14/100\n",
      "\u001b[1m7/7\u001b[0m \u001b[32m━━━━━━━━━━━━━━━━━━━━\u001b[0m\u001b[37m\u001b[0m \u001b[1m1s\u001b[0m 107ms/step - accuracy: 0.6278 - loss: 0.6403 - val_accuracy: 0.7600 - val_loss: 0.5787\n",
      "Epoch 15/100\n",
      "\u001b[1m7/7\u001b[0m \u001b[32m━━━━━━━━━━━━━━━━━━━━\u001b[0m\u001b[37m\u001b[0m \u001b[1m1s\u001b[0m 108ms/step - accuracy: 0.7772 - loss: 0.5723 - val_accuracy: 0.7200 - val_loss: 0.5873\n",
      "Epoch 16/100\n",
      "\u001b[1m7/7\u001b[0m \u001b[32m━━━━━━━━━━━━━━━━━━━━\u001b[0m\u001b[37m\u001b[0m \u001b[1m1s\u001b[0m 112ms/step - accuracy: 0.6558 - loss: 0.6393 - val_accuracy: 0.7800 - val_loss: 0.5313\n",
      "Epoch 17/100\n",
      "\u001b[1m7/7\u001b[0m \u001b[32m━━━━━━━━━━━━━━━━━━━━\u001b[0m\u001b[37m\u001b[0m \u001b[1m1s\u001b[0m 107ms/step - accuracy: 0.6867 - loss: 0.5420 - val_accuracy: 0.8800 - val_loss: 0.4720\n",
      "Epoch 18/100\n",
      "\u001b[1m7/7\u001b[0m \u001b[32m━━━━━━━━━━━━━━━━━━━━\u001b[0m\u001b[37m\u001b[0m \u001b[1m1s\u001b[0m 109ms/step - accuracy: 0.8438 - loss: 0.4290 - val_accuracy: 0.5200 - val_loss: 1.5036\n",
      "Epoch 19/100\n",
      "\u001b[1m7/7\u001b[0m \u001b[32m━━━━━━━━━━━━━━━━━━━━\u001b[0m\u001b[37m\u001b[0m \u001b[1m1s\u001b[0m 107ms/step - accuracy: 0.7093 - loss: 0.7059 - val_accuracy: 0.7400 - val_loss: 0.5111\n",
      "Epoch 20/100\n",
      "\u001b[1m7/7\u001b[0m \u001b[32m━━━━━━━━━━━━━━━━━━━━\u001b[0m\u001b[37m\u001b[0m \u001b[1m1s\u001b[0m 107ms/step - accuracy: 0.7301 - loss: 0.5251 - val_accuracy: 0.8000 - val_loss: 0.4728\n",
      "Epoch 21/100\n",
      "\u001b[1m7/7\u001b[0m \u001b[32m━━━━━━━━━━━━━━━━━━━━\u001b[0m\u001b[37m\u001b[0m \u001b[1m1s\u001b[0m 108ms/step - accuracy: 0.7701 - loss: 0.4953 - val_accuracy: 0.8800 - val_loss: 0.4621\n",
      "Epoch 22/100\n",
      "\u001b[1m7/7\u001b[0m \u001b[32m━━━━━━━━━━━━━━━━━━━━\u001b[0m\u001b[37m\u001b[0m \u001b[1m1s\u001b[0m 107ms/step - accuracy: 0.6659 - loss: 0.9136 - val_accuracy: 0.4600 - val_loss: 1.0292\n",
      "Epoch 23/100\n",
      "\u001b[1m7/7\u001b[0m \u001b[32m━━━━━━━━━━━━━━━━━━━━\u001b[0m\u001b[37m\u001b[0m \u001b[1m1s\u001b[0m 108ms/step - accuracy: 0.4908 - loss: 0.8255 - val_accuracy: 0.5400 - val_loss: 0.6624\n",
      "Epoch 24/100\n",
      "\u001b[1m7/7\u001b[0m \u001b[32m━━━━━━━━━━━━━━━━━━━━\u001b[0m\u001b[37m\u001b[0m \u001b[1m1s\u001b[0m 115ms/step - accuracy: 0.4694 - loss: 0.7153 - val_accuracy: 0.5400 - val_loss: 0.6660\n",
      "Epoch 25/100\n",
      "\u001b[1m7/7\u001b[0m \u001b[32m━━━━━━━━━━━━━━━━━━━━\u001b[0m\u001b[37m\u001b[0m \u001b[1m1s\u001b[0m 106ms/step - accuracy: 0.5137 - loss: 0.6861 - val_accuracy: 0.4800 - val_loss: 0.6957\n",
      "Epoch 26/100\n",
      "\u001b[1m7/7\u001b[0m \u001b[32m━━━━━━━━━━━━━━━━━━━━\u001b[0m\u001b[37m\u001b[0m \u001b[1m1s\u001b[0m 109ms/step - accuracy: 0.5745 - loss: 0.6702 - val_accuracy: 0.5000 - val_loss: 0.6815\n",
      "Epoch 27/100\n",
      "\u001b[1m7/7\u001b[0m \u001b[32m━━━━━━━━━━━━━━━━━━━━\u001b[0m\u001b[37m\u001b[0m \u001b[1m1s\u001b[0m 108ms/step - accuracy: 0.4989 - loss: 0.6774 - val_accuracy: 0.5800 - val_loss: 0.6701\n",
      "Epoch 28/100\n",
      "\u001b[1m7/7\u001b[0m \u001b[32m━━━━━━━━━━━━━━━━━━━━\u001b[0m\u001b[37m\u001b[0m \u001b[1m1s\u001b[0m 107ms/step - accuracy: 0.5095 - loss: 0.6704 - val_accuracy: 0.6800 - val_loss: 0.6599\n",
      "Epoch 29/100\n",
      "\u001b[1m7/7\u001b[0m \u001b[32m━━━━━━━━━━━━━━━━━━━━\u001b[0m\u001b[37m\u001b[0m \u001b[1m1s\u001b[0m 105ms/step - accuracy: 0.4617 - loss: 0.6801 - val_accuracy: 0.7600 - val_loss: 0.6571\n",
      "Epoch 30/100\n",
      "\u001b[1m7/7\u001b[0m \u001b[32m━━━━━━━━━━━━━━━━━━━━\u001b[0m\u001b[37m\u001b[0m \u001b[1m1s\u001b[0m 107ms/step - accuracy: 0.5511 - loss: 0.6577 - val_accuracy: 0.5200 - val_loss: 0.6603\n",
      "Epoch 31/100\n",
      "\u001b[1m7/7\u001b[0m \u001b[32m━━━━━━━━━━━━━━━━━━━━\u001b[0m\u001b[37m\u001b[0m \u001b[1m1s\u001b[0m 110ms/step - accuracy: 0.5428 - loss: 0.6620 - val_accuracy: 0.5200 - val_loss: 0.6572\n",
      "Epoch 32/100\n",
      "\u001b[1m7/7\u001b[0m \u001b[32m━━━━━━━━━━━━━━━━━━━━\u001b[0m\u001b[37m\u001b[0m \u001b[1m1s\u001b[0m 107ms/step - accuracy: 0.5326 - loss: 0.6590 - val_accuracy: 0.5000 - val_loss: 0.6491\n",
      "Epoch 33/100\n",
      "\u001b[1m7/7\u001b[0m \u001b[32m━━━━━━━━━━━━━━━━━━━━\u001b[0m\u001b[37m\u001b[0m \u001b[1m1s\u001b[0m 108ms/step - accuracy: 0.5754 - loss: 0.6354 - val_accuracy: 0.5200 - val_loss: 0.6282\n",
      "Epoch 34/100\n",
      "\u001b[1m7/7\u001b[0m \u001b[32m━━━━━━━━━━━━━━━━━━━━\u001b[0m\u001b[37m\u001b[0m \u001b[1m1s\u001b[0m 106ms/step - accuracy: 0.6884 - loss: 0.6166 - val_accuracy: 0.7800 - val_loss: 0.5679\n",
      "Epoch 35/100\n",
      "\u001b[1m7/7\u001b[0m \u001b[32m━━━━━━━━━━━━━━━━━━━━\u001b[0m\u001b[37m\u001b[0m \u001b[1m1s\u001b[0m 107ms/step - accuracy: 0.7684 - loss: 0.5409 - val_accuracy: 0.7600 - val_loss: 0.5286\n",
      "Epoch 36/100\n",
      "\u001b[1m7/7\u001b[0m \u001b[32m━━━━━━━━━━━━━━━━━━━━\u001b[0m\u001b[37m\u001b[0m \u001b[1m1s\u001b[0m 108ms/step - accuracy: 0.6604 - loss: 0.5694 - val_accuracy: 0.7400 - val_loss: 0.5199\n",
      "Epoch 37/100\n",
      "\u001b[1m7/7\u001b[0m \u001b[32m━━━━━━━━━━━━━━━━━━━━\u001b[0m\u001b[37m\u001b[0m \u001b[1m1s\u001b[0m 106ms/step - accuracy: 0.6479 - loss: 0.5877 - val_accuracy: 0.7400 - val_loss: 0.5074\n",
      "Epoch 38/100\n",
      "\u001b[1m7/7\u001b[0m \u001b[32m━━━━━━━━━━━━━━━━━━━━\u001b[0m\u001b[37m\u001b[0m \u001b[1m1s\u001b[0m 109ms/step - accuracy: 0.6921 - loss: 0.5357 - val_accuracy: 0.8600 - val_loss: 0.4339\n",
      "Epoch 39/100\n",
      "\u001b[1m7/7\u001b[0m \u001b[32m━━━━━━━━━━━━━━━━━━━━\u001b[0m\u001b[37m\u001b[0m \u001b[1m1s\u001b[0m 108ms/step - accuracy: 0.8989 - loss: 0.3981 - val_accuracy: 0.8600 - val_loss: 0.3222\n",
      "Epoch 40/100\n",
      "\u001b[1m7/7\u001b[0m \u001b[32m━━━━━━━━━━━━━━━━━━━━\u001b[0m\u001b[37m\u001b[0m \u001b[1m1s\u001b[0m 109ms/step - accuracy: 0.8826 - loss: 0.3271 - val_accuracy: 0.8000 - val_loss: 0.4439\n",
      "Epoch 41/100\n",
      "\u001b[1m7/7\u001b[0m \u001b[32m━━━━━━━━━━━━━━━━━━━━\u001b[0m\u001b[37m\u001b[0m \u001b[1m1s\u001b[0m 107ms/step - accuracy: 0.8110 - loss: 0.4116 - val_accuracy: 0.8800 - val_loss: 0.3936\n",
      "Epoch 42/100\n",
      "\u001b[1m7/7\u001b[0m \u001b[32m━━━━━━━━━━━━━━━━━━━━\u001b[0m\u001b[37m\u001b[0m \u001b[1m1s\u001b[0m 106ms/step - accuracy: 0.8573 - loss: 0.3932 - val_accuracy: 0.8400 - val_loss: 0.4019\n",
      "Epoch 43/100\n",
      "\u001b[1m7/7\u001b[0m \u001b[32m━━━━━━━━━━━━━━━━━━━━\u001b[0m\u001b[37m\u001b[0m \u001b[1m1s\u001b[0m 108ms/step - accuracy: 0.8230 - loss: 0.4642 - val_accuracy: 0.5000 - val_loss: 1.4690\n",
      "Epoch 44/100\n",
      "\u001b[1m7/7\u001b[0m \u001b[32m━━━━━━━━━━━━━━━━━━━━\u001b[0m\u001b[37m\u001b[0m \u001b[1m1s\u001b[0m 107ms/step - accuracy: 0.5203 - loss: 1.2775 - val_accuracy: 0.7200 - val_loss: 0.5616\n",
      "Epoch 45/100\n",
      "\u001b[1m7/7\u001b[0m \u001b[32m━━━━━━━━━━━━━━━━━━━━\u001b[0m\u001b[37m\u001b[0m \u001b[1m1s\u001b[0m 112ms/step - accuracy: 0.6423 - loss: 0.6750 - val_accuracy: 0.6800 - val_loss: 0.5912\n",
      "Epoch 46/100\n",
      "\u001b[1m7/7\u001b[0m \u001b[32m━━━━━━━━━━━━━━━━━━━━\u001b[0m\u001b[37m\u001b[0m \u001b[1m1s\u001b[0m 109ms/step - accuracy: 0.5717 - loss: 0.6605 - val_accuracy: 0.6800 - val_loss: 0.6079\n",
      "Epoch 47/100\n",
      "\u001b[1m7/7\u001b[0m \u001b[32m━━━━━━━━━━━━━━━━━━━━\u001b[0m\u001b[37m\u001b[0m \u001b[1m1s\u001b[0m 109ms/step - accuracy: 0.6064 - loss: 0.6230 - val_accuracy: 0.6800 - val_loss: 0.6771\n",
      "Epoch 48/100\n",
      "\u001b[1m7/7\u001b[0m \u001b[32m━━━━━━━━━━━━━━━━━━━━\u001b[0m\u001b[37m\u001b[0m \u001b[1m1s\u001b[0m 108ms/step - accuracy: 0.6189 - loss: 0.6193 - val_accuracy: 0.6800 - val_loss: 0.6620\n",
      "Epoch 49/100\n",
      "\u001b[1m7/7\u001b[0m \u001b[32m━━━━━━━━━━━━━━━━━━━━\u001b[0m\u001b[37m\u001b[0m \u001b[1m1s\u001b[0m 108ms/step - accuracy: 0.5804 - loss: 0.6141 - val_accuracy: 0.7000 - val_loss: 0.5810\n",
      "Epoch 50/100\n",
      "\u001b[1m7/7\u001b[0m \u001b[32m━━━━━━━━━━━━━━━━━━━━\u001b[0m\u001b[37m\u001b[0m \u001b[1m1s\u001b[0m 108ms/step - accuracy: 0.6100 - loss: 0.6083 - val_accuracy: 0.7000 - val_loss: 0.5712\n",
      "Epoch 51/100\n",
      "\u001b[1m7/7\u001b[0m \u001b[32m━━━━━━━━━━━━━━━━━━━━\u001b[0m\u001b[37m\u001b[0m \u001b[1m1s\u001b[0m 110ms/step - accuracy: 0.6028 - loss: 0.5858 - val_accuracy: 0.6800 - val_loss: 0.6290\n",
      "Epoch 52/100\n",
      "\u001b[1m7/7\u001b[0m \u001b[32m━━━━━━━━━━━━━━━━━━━━\u001b[0m\u001b[37m\u001b[0m \u001b[1m1s\u001b[0m 110ms/step - accuracy: 0.6954 - loss: 0.5856 - val_accuracy: 0.7200 - val_loss: 0.5979\n",
      "Epoch 53/100\n",
      "\u001b[1m7/7\u001b[0m \u001b[32m━━━━━━━━━━━━━━━━━━━━\u001b[0m\u001b[37m\u001b[0m \u001b[1m1s\u001b[0m 108ms/step - accuracy: 0.7605 - loss: 0.4941 - val_accuracy: 0.5200 - val_loss: 1.5064\n",
      "Epoch 54/100\n",
      "\u001b[1m7/7\u001b[0m \u001b[32m━━━━━━━━━━━━━━━━━━━━\u001b[0m\u001b[37m\u001b[0m \u001b[1m1s\u001b[0m 107ms/step - accuracy: 0.5688 - loss: 1.1354 - val_accuracy: 0.5000 - val_loss: 0.7637\n",
      "Epoch 55/100\n",
      "\u001b[1m7/7\u001b[0m \u001b[32m━━━━━━━━━━━━━━━━━━━━\u001b[0m\u001b[37m\u001b[0m \u001b[1m1s\u001b[0m 107ms/step - accuracy: 0.4675 - loss: 0.7688 - val_accuracy: 0.5400 - val_loss: 0.6832\n",
      "Epoch 56/100\n",
      "\u001b[1m7/7\u001b[0m \u001b[32m━━━━━━━━━━━━━━━━━━━━\u001b[0m\u001b[37m\u001b[0m \u001b[1m1s\u001b[0m 107ms/step - accuracy: 0.4582 - loss: 0.7414 - val_accuracy: 0.2400 - val_loss: 0.6786\n",
      "Epoch 57/100\n",
      "\u001b[1m7/7\u001b[0m \u001b[32m━━━━━━━━━━━━━━━━━━━━\u001b[0m\u001b[37m\u001b[0m \u001b[1m1s\u001b[0m 107ms/step - accuracy: 0.5374 - loss: 0.6841 - val_accuracy: 0.5200 - val_loss: 0.6609\n",
      "Epoch 58/100\n",
      "\u001b[1m7/7\u001b[0m \u001b[32m━━━━━━━━━━━━━━━━━━━━\u001b[0m\u001b[37m\u001b[0m \u001b[1m1s\u001b[0m 108ms/step - accuracy: 0.5334 - loss: 0.6745 - val_accuracy: 0.5200 - val_loss: 0.6665\n",
      "Epoch 59/100\n",
      "\u001b[1m7/7\u001b[0m \u001b[32m━━━━━━━━━━━━━━━━━━━━\u001b[0m\u001b[37m\u001b[0m \u001b[1m1s\u001b[0m 107ms/step - accuracy: 0.4812 - loss: 0.9803 - val_accuracy: 0.5400 - val_loss: 0.6909\n",
      "Epoch 60/100\n",
      "\u001b[1m7/7\u001b[0m \u001b[32m━━━━━━━━━━━━━━━━━━━━\u001b[0m\u001b[37m\u001b[0m \u001b[1m1s\u001b[0m 107ms/step - accuracy: 0.5218 - loss: 0.7104 - val_accuracy: 0.5200 - val_loss: 0.7096\n",
      "Epoch 61/100\n",
      "\u001b[1m7/7\u001b[0m \u001b[32m━━━━━━━━━━━━━━━━━━━━\u001b[0m\u001b[37m\u001b[0m \u001b[1m1s\u001b[0m 114ms/step - accuracy: 0.5158 - loss: 0.7352 - val_accuracy: 0.4600 - val_loss: 0.7287\n",
      "Epoch 62/100\n",
      "\u001b[1m7/7\u001b[0m \u001b[32m━━━━━━━━━━━━━━━━━━━━\u001b[0m\u001b[37m\u001b[0m \u001b[1m1s\u001b[0m 114ms/step - accuracy: 0.5263 - loss: 0.7291 - val_accuracy: 0.4600 - val_loss: 0.7035\n",
      "Epoch 63/100\n",
      "\u001b[1m7/7\u001b[0m \u001b[32m━━━━━━━━━━━━━━━━━━━━\u001b[0m\u001b[37m\u001b[0m \u001b[1m1s\u001b[0m 113ms/step - accuracy: 0.5055 - loss: 0.7107 - val_accuracy: 0.5400 - val_loss: 0.6850\n",
      "Epoch 64/100\n",
      "\u001b[1m7/7\u001b[0m \u001b[32m━━━━━━━━━━━━━━━━━━━━\u001b[0m\u001b[37m\u001b[0m \u001b[1m1s\u001b[0m 114ms/step - accuracy: 0.5254 - loss: 0.6796 - val_accuracy: 0.4800 - val_loss: 0.6902\n",
      "Epoch 65/100\n",
      "\u001b[1m7/7\u001b[0m \u001b[32m━━━━━━━━━━━━━━━━━━━━\u001b[0m\u001b[37m\u001b[0m \u001b[1m1s\u001b[0m 108ms/step - accuracy: 0.5138 - loss: 0.6997 - val_accuracy: 0.4800 - val_loss: 0.6885\n",
      "Epoch 66/100\n",
      "\u001b[1m7/7\u001b[0m \u001b[32m━━━━━━━━━━━━━━━━━━━━\u001b[0m\u001b[37m\u001b[0m \u001b[1m1s\u001b[0m 113ms/step - accuracy: 0.5282 - loss: 0.6979 - val_accuracy: 0.5400 - val_loss: 0.6841\n",
      "Epoch 67/100\n",
      "\u001b[1m7/7\u001b[0m \u001b[32m━━━━━━━━━━━━━━━━━━━━\u001b[0m\u001b[37m\u001b[0m \u001b[1m1s\u001b[0m 114ms/step - accuracy: 0.5453 - loss: 0.6823 - val_accuracy: 0.4800 - val_loss: 0.6859\n",
      "Epoch 68/100\n",
      "\u001b[1m7/7\u001b[0m \u001b[32m━━━━━━━━━━━━━━━━━━━━\u001b[0m\u001b[37m\u001b[0m \u001b[1m1s\u001b[0m 115ms/step - accuracy: 0.5354 - loss: 0.6771 - val_accuracy: 0.4800 - val_loss: 0.6898\n",
      "Epoch 69/100\n",
      "\u001b[1m7/7\u001b[0m \u001b[32m━━━━━━━━━━━━━━━━━━━━\u001b[0m\u001b[37m\u001b[0m \u001b[1m1s\u001b[0m 110ms/step - accuracy: 0.6130 - loss: 0.6621 - val_accuracy: 0.5400 - val_loss: 0.6817\n",
      "Epoch 70/100\n",
      "\u001b[1m7/7\u001b[0m \u001b[32m━━━━━━━━━━━━━━━━━━━━\u001b[0m\u001b[37m\u001b[0m \u001b[1m1s\u001b[0m 114ms/step - accuracy: 0.4885 - loss: 0.6984 - val_accuracy: 0.5400 - val_loss: 0.6829\n",
      "Epoch 71/100\n",
      "\u001b[1m7/7\u001b[0m \u001b[32m━━━━━━━━━━━━━━━━━━━━\u001b[0m\u001b[37m\u001b[0m \u001b[1m1s\u001b[0m 111ms/step - accuracy: 0.5234 - loss: 0.6901 - val_accuracy: 0.4800 - val_loss: 0.6872\n",
      "Epoch 72/100\n",
      "\u001b[1m7/7\u001b[0m \u001b[32m━━━━━━━━━━━━━━━━━━━━\u001b[0m\u001b[37m\u001b[0m \u001b[1m1s\u001b[0m 109ms/step - accuracy: 0.5079 - loss: 0.6825 - val_accuracy: 0.4800 - val_loss: 0.7119\n",
      "Epoch 73/100\n",
      "\u001b[1m7/7\u001b[0m \u001b[32m━━━━━━━━━━━━━━━━━━━━\u001b[0m\u001b[37m\u001b[0m \u001b[1m1s\u001b[0m 108ms/step - accuracy: 0.5244 - loss: 0.6944 - val_accuracy: 0.4800 - val_loss: 0.7025\n",
      "Epoch 74/100\n",
      "\u001b[1m7/7\u001b[0m \u001b[32m━━━━━━━━━━━━━━━━━━━━\u001b[0m\u001b[37m\u001b[0m \u001b[1m1s\u001b[0m 110ms/step - accuracy: 0.4958 - loss: 0.7084 - val_accuracy: 0.4800 - val_loss: 0.6911\n",
      "Epoch 75/100\n",
      "\u001b[1m7/7\u001b[0m \u001b[32m━━━━━━━━━━━━━━━━━━━━\u001b[0m\u001b[37m\u001b[0m \u001b[1m1s\u001b[0m 109ms/step - accuracy: 0.5296 - loss: 0.6731 - val_accuracy: 0.4800 - val_loss: 0.6886\n",
      "Epoch 76/100\n",
      "\u001b[1m7/7\u001b[0m \u001b[32m━━━━━━━━━━━━━━━━━━━━\u001b[0m\u001b[37m\u001b[0m \u001b[1m1s\u001b[0m 110ms/step - accuracy: 0.4898 - loss: 0.6937 - val_accuracy: 0.4800 - val_loss: 0.6931\n",
      "Epoch 77/100\n",
      "\u001b[1m7/7\u001b[0m \u001b[32m━━━━━━━━━━━━━━━━━━━━\u001b[0m\u001b[37m\u001b[0m \u001b[1m1s\u001b[0m 112ms/step - accuracy: 0.4785 - loss: 0.6865 - val_accuracy: 0.4800 - val_loss: 0.6905\n",
      "Epoch 78/100\n",
      "\u001b[1m7/7\u001b[0m \u001b[32m━━━━━━━━━━━━━━━━━━━━\u001b[0m\u001b[37m\u001b[0m \u001b[1m1s\u001b[0m 109ms/step - accuracy: 0.5260 - loss: 0.6772 - val_accuracy: 0.4800 - val_loss: 0.6862\n",
      "Epoch 79/100\n",
      "\u001b[1m7/7\u001b[0m \u001b[32m━━━━━━━━━━━━━━━━━━━━\u001b[0m\u001b[37m\u001b[0m \u001b[1m1s\u001b[0m 109ms/step - accuracy: 0.5339 - loss: 0.6716 - val_accuracy: 0.5400 - val_loss: 0.6810\n",
      "Epoch 80/100\n",
      "\u001b[1m7/7\u001b[0m \u001b[32m━━━━━━━━━━━━━━━━━━━━\u001b[0m\u001b[37m\u001b[0m \u001b[1m1s\u001b[0m 110ms/step - accuracy: 0.4891 - loss: 0.6895 - val_accuracy: 0.5400 - val_loss: 0.6815\n",
      "Epoch 81/100\n",
      "\u001b[1m7/7\u001b[0m \u001b[32m━━━━━━━━━━━━━━━━━━━━\u001b[0m\u001b[37m\u001b[0m \u001b[1m1s\u001b[0m 108ms/step - accuracy: 0.4769 - loss: 0.6879 - val_accuracy: 0.4800 - val_loss: 0.6949\n",
      "Epoch 82/100\n",
      "\u001b[1m7/7\u001b[0m \u001b[32m━━━━━━━━━━━━━━━━━━━━\u001b[0m\u001b[37m\u001b[0m \u001b[1m1s\u001b[0m 109ms/step - accuracy: 0.5161 - loss: 0.6899 - val_accuracy: 0.4800 - val_loss: 0.6945\n",
      "Epoch 83/100\n",
      "\u001b[1m7/7\u001b[0m \u001b[32m━━━━━━━━━━━━━━━━━━━━\u001b[0m\u001b[37m\u001b[0m \u001b[1m1s\u001b[0m 112ms/step - accuracy: 0.5518 - loss: 0.6785 - val_accuracy: 0.4800 - val_loss: 0.6875\n",
      "Epoch 84/100\n",
      "\u001b[1m7/7\u001b[0m \u001b[32m━━━━━━━━━━━━━━━━━━━━\u001b[0m\u001b[37m\u001b[0m \u001b[1m1s\u001b[0m 115ms/step - accuracy: 0.5014 - loss: 0.6788 - val_accuracy: 0.5000 - val_loss: 0.6782\n",
      "Epoch 85/100\n",
      "\u001b[1m7/7\u001b[0m \u001b[32m━━━━━━━━━━━━━━━━━━━━\u001b[0m\u001b[37m\u001b[0m \u001b[1m1s\u001b[0m 109ms/step - accuracy: 0.4935 - loss: 0.6796 - val_accuracy: 0.5000 - val_loss: 0.6768\n",
      "Epoch 86/100\n",
      "\u001b[1m7/7\u001b[0m \u001b[32m━━━━━━━━━━━━━━━━━━━━\u001b[0m\u001b[37m\u001b[0m \u001b[1m1s\u001b[0m 109ms/step - accuracy: 0.5164 - loss: 0.6870 - val_accuracy: 0.5000 - val_loss: 0.6740\n",
      "Epoch 87/100\n",
      "\u001b[1m7/7\u001b[0m \u001b[32m━━━━━━━━━━━━━━━━━━━━\u001b[0m\u001b[37m\u001b[0m \u001b[1m1s\u001b[0m 108ms/step - accuracy: 0.5170 - loss: 0.6732 - val_accuracy: 0.5000 - val_loss: 0.6716\n",
      "Epoch 88/100\n",
      "\u001b[1m7/7\u001b[0m \u001b[32m━━━━━━━━━━━━━━━━━━━━\u001b[0m\u001b[37m\u001b[0m \u001b[1m1s\u001b[0m 106ms/step - accuracy: 0.4361 - loss: 0.6871 - val_accuracy: 0.5000 - val_loss: 0.6724\n",
      "Epoch 89/100\n",
      "\u001b[1m7/7\u001b[0m \u001b[32m━━━━━━━━━━━━━━━━━━━━\u001b[0m\u001b[37m\u001b[0m \u001b[1m1s\u001b[0m 113ms/step - accuracy: 0.5211 - loss: 0.6705 - val_accuracy: 0.5000 - val_loss: 0.6733\n",
      "Epoch 90/100\n",
      "\u001b[1m7/7\u001b[0m \u001b[32m━━━━━━━━━━━━━━━━━━━━\u001b[0m\u001b[37m\u001b[0m \u001b[1m1s\u001b[0m 109ms/step - accuracy: 0.5860 - loss: 0.6616 - val_accuracy: 0.5000 - val_loss: 0.6909\n",
      "Epoch 91/100\n",
      "\u001b[1m7/7\u001b[0m \u001b[32m━━━━━━━━━━━━━━━━━━━━\u001b[0m\u001b[37m\u001b[0m \u001b[1m1s\u001b[0m 108ms/step - accuracy: 0.6124 - loss: 0.6538 - val_accuracy: 0.5000 - val_loss: 0.6914\n",
      "Epoch 92/100\n",
      "\u001b[1m7/7\u001b[0m \u001b[32m━━━━━━━━━━━━━━━━━━━━\u001b[0m\u001b[37m\u001b[0m \u001b[1m1s\u001b[0m 109ms/step - accuracy: 0.5466 - loss: 0.6827 - val_accuracy: 0.5000 - val_loss: 0.6697\n",
      "Epoch 93/100\n",
      "\u001b[1m7/7\u001b[0m \u001b[32m━━━━━━━━━━━━━━━━━━━━\u001b[0m\u001b[37m\u001b[0m \u001b[1m1s\u001b[0m 109ms/step - accuracy: 0.5692 - loss: 0.6576 - val_accuracy: 0.5000 - val_loss: 0.6709\n",
      "Epoch 94/100\n",
      "\u001b[1m7/7\u001b[0m \u001b[32m━━━━━━━━━━━━━━━━━━━━\u001b[0m\u001b[37m\u001b[0m \u001b[1m1s\u001b[0m 110ms/step - accuracy: 0.5137 - loss: 0.6736 - val_accuracy: 0.5000 - val_loss: 0.6724\n",
      "Epoch 95/100\n",
      "\u001b[1m7/7\u001b[0m \u001b[32m━━━━━━━━━━━━━━━━━━━━\u001b[0m\u001b[37m\u001b[0m \u001b[1m1s\u001b[0m 112ms/step - accuracy: 0.5755 - loss: 0.6500 - val_accuracy: 0.5000 - val_loss: 0.6720\n",
      "Epoch 96/100\n",
      "\u001b[1m7/7\u001b[0m \u001b[32m━━━━━━━━━━━━━━━━━━━━\u001b[0m\u001b[37m\u001b[0m \u001b[1m1s\u001b[0m 111ms/step - accuracy: 0.5435 - loss: 0.6614 - val_accuracy: 0.5000 - val_loss: 0.6736\n",
      "Epoch 97/100\n",
      "\u001b[1m7/7\u001b[0m \u001b[32m━━━━━━━━━━━━━━━━━━━━\u001b[0m\u001b[37m\u001b[0m \u001b[1m1s\u001b[0m 124ms/step - accuracy: 0.4720 - loss: 0.6817 - val_accuracy: 0.5000 - val_loss: 0.6811\n",
      "Epoch 98/100\n",
      "\u001b[1m7/7\u001b[0m \u001b[32m━━━━━━━━━━━━━━━━━━━━\u001b[0m\u001b[37m\u001b[0m \u001b[1m1s\u001b[0m 115ms/step - accuracy: 0.5461 - loss: 0.6702 - val_accuracy: 0.5000 - val_loss: 0.6769\n",
      "Epoch 99/100\n",
      "\u001b[1m7/7\u001b[0m \u001b[32m━━━━━━━━━━━━━━━━━━━━\u001b[0m\u001b[37m\u001b[0m \u001b[1m1s\u001b[0m 119ms/step - accuracy: 0.5130 - loss: 0.6733 - val_accuracy: 0.5000 - val_loss: 0.6723\n",
      "Epoch 100/100\n",
      "\u001b[1m7/7\u001b[0m \u001b[32m━━━━━━━━━━━━━━━━━━━━\u001b[0m\u001b[37m\u001b[0m \u001b[1m1s\u001b[0m 113ms/step - accuracy: 0.5556 - loss: 0.6592 - val_accuracy: 0.5000 - val_loss: 0.6744\n"
     ]
    },
    {
     "data": {
      "image/png": "[encoded data removed]",
      "text/plain": [
       "<Figure size 1200x500 with 1 Axes>"
      ]
     },
     "metadata": {},
     "output_type": "display_data"
    }
   ],
   "source": [
    "import os\n",
    "import numpy as np\n",
    "import pandas as pd\n",
    "import lightkurve as lk\n",
    "from tensorflow.keras.preprocessing.sequence import pad_sequences\n",
    "from tensorflow.keras.models import Sequential\n",
    "from tensorflow.keras.layers import Masking, LSTM, Dense, Dropout, Bidirectional\n",
    "from tensorflow.keras.callbacks import ModelCheckpoint\n",
    "from sklearn.model_selection import train_test_split\n",
    "import matplotlib.pyplot as plt\n",
    "\n",
    "# === STEP 1: LOAD DATASET AND LABELS ===\n",
    "df = pd.read_csv(\"midSet.csv\")\n",
    "label_map = {\"CONFIRMED\": 1, \"FALSE POSITIVE\": 0}\n",
    "\n",
    "curve_length = 100\n",
    "\n",
    "X = []\n",
    "Y = []\n",
    "\n",
    "print(\"Loading light curves...\")\n",
    "for _, row in df.iterrows():\n",
    "    kepid = row[\"kepid\"]\n",
    "    label = label_map.get(row[\"koi_disposition\"])\n",
    "\n",
    "    data = np.load(f\"curvesBig/{kepid}.npz\")\n",
    "    time = data[\"time\"]\n",
    "    flux = data[\"flux\"]\n",
    "    \n",
    "    X.append(flux)\n",
    "    Y.append(label)\n",
    "    \n",
    "print(f\"Loaded {len(X)} light curves.\")\n",
    "\n",
    "# print(Y[0],X[0])\n",
    "\n",
    "# # === STEP 2: PAD SEQUENCES ===\n",
    "print(\"Padding sequences...\")\n",
    "X_padded = pad_sequences(X, maxlen=100, dtype='float32', padding='post')\n",
    "X_padded = (X_padded - np.mean(X_padded)) / np.std(X_padded)\n",
    "Y = np.array(Y)\n",
    "X_input = X_padded[..., np.newaxis]  # Shape: (samples, timesteps, channels)\n",
    "\n",
    "# print(X_input[6])\n",
    "\n",
    "# # === STEP 3: TRAIN/VAL SPLIT ===\n",
    "X_train, X_val, Y_train, Y_val = train_test_split(X_input, Y, test_size=0.2, random_state=42)\n",
    "\n",
    "print(len(X_train))\n",
    "\n",
    "# # === STEP 4: BUILD MODEL ===\n",
    "print(\"Building model...\")\n",
    "model = Sequential([\n",
    "    Masking(mask_value=0.0, input_shape=(curve_length, 1)),\n",
    "    Bidirectional(LSTM(128, return_sequences=True)),  # Bidirectional LSTM with more units\n",
    "    Dropout(0.3),  # Dropout layer to prevent overfitting\n",
    "    LSTM(64),      # Another LSTM layer to capture complex temporal patterns\n",
    "    Dropout(0.3),  # Dropout layer for regularization\n",
    "    Dense(1, activation='sigmoid')\n",
    "])\n",
    "\n",
    "model.compile(optimizer='adam', loss='binary_crossentropy', metrics=['accuracy'])\n",
    "\n",
    "# # === STEP 5: TRAIN MODEL ===\n",
    "print(\"Training model...\")\n",
    "\n",
    "history = model.fit(\n",
    "    X_train,         # shape: (num_samples, curve_length, 1)\n",
    "    Y_train,         # shape: (num_samples,)\n",
    "    epochs=100,       # change depending on how long you want to train\n",
    "    batch_size=32,   # try 16 or 64 too\n",
    "    validation_data=(X_val, Y_val),  # optional, but good for tracking overfitting\n",
    "    verbose=1\n",
    ")\n",
    "\n",
    "# Plot training & validation accuracy\n",
    "plt.figure(figsize=(12, 5))\n",
    "\n",
    "plt.subplot(1, 2, 1)\n",
    "plt.plot(history.history['accuracy'], label='Train Accuracy')\n",
    "plt.plot(history.history['val_accuracy'], label='Val Accuracy')\n",
    "plt.title('Model Accuracy')\n",
    "plt.xlabel('Epoch')\n",
    "plt.ylabel('Accuracy')\n",
    "plt.legend()\n",
    "plt.grid(True)"
   ]
  },
  {
   "cell_type": "code",
   "execution_count": 19,
   "id": "ae723344",
   "metadata": {},
   "outputs": [
    {
     "name": "stdout",
     "output_type": "stream",
     "text": [
      "Scaled flux values in 10005758.npz and saved.\n",
      "Scaled flux values in 10023069.npz and saved.\n",
      "Scaled flux values in 10031500.npz and saved.\n",
      "Scaled flux values in 10098534.npz and saved.\n",
      "Scaled flux values in 10123064.npz and saved.\n",
      "Scaled flux values in 10132552.npz and saved.\n",
      "Scaled flux values in 10139620.npz and saved.\n",
      "Scaled flux values in 10187017.npz and saved.\n",
      "Scaled flux values in 10264660.npz and saved.\n",
      "Scaled flux values in 10268714.npz and saved.\n",
      "Scaled flux values in 10351767.npz and saved.\n",
      "Scaled flux values in 10386922.npz and saved.\n",
      "Scaled flux values in 10399137.npz and saved.\n",
      "Scaled flux values in 10427700.npz and saved.\n",
      "Scaled flux values in 10489206.npz and saved.\n",
      "Scaled flux values in 10581918.npz and saved.\n",
      "Scaled flux values in 10614158.npz and saved.\n",
      "Scaled flux values in 10616679.npz and saved.\n",
      "Scaled flux values in 10729472.npz and saved.\n",
      "Scaled flux values in 10748390.npz and saved.\n",
      "Scaled flux values in 10795103.npz and saved.\n",
      "Scaled flux values in 10847907.npz and saved.\n",
      "Scaled flux values in 10858832.npz and saved.\n",
      "Scaled flux values in 10910878.npz and saved.\n",
      "Scaled flux values in 10925104.npz and saved.\n",
      "Scaled flux values in 10934313.npz and saved.\n",
      "Scaled flux values in 10937029.npz and saved.\n",
      "Scaled flux values in 10991239.npz and saved.\n",
      "Scaled flux values in 11027624.npz and saved.\n",
      "Scaled flux values in 11046458.npz and saved.\n",
      "Scaled flux values in 11087662.npz and saved.\n",
      "Scaled flux values in 11194032.npz and saved.\n",
      "Scaled flux values in 11304958.npz and saved.\n",
      "Scaled flux values in 11359879.npz and saved.\n",
      "Scaled flux values in 11391018.npz and saved.\n",
      "Scaled flux values in 11400356.npz and saved.\n",
      "Scaled flux values in 11401755.npz and saved.\n",
      "Scaled flux values in 11403044.npz and saved.\n",
      "Scaled flux values in 11414511.npz and saved.\n",
      "Scaled flux values in 11442793.npz and saved.\n",
      "Scaled flux values in 11456839.npz and saved.\n",
      "Scaled flux values in 11501492.npz and saved.\n",
      "Scaled flux values in 11623629.npz and saved.\n",
      "Scaled flux values in 11649292.npz and saved.\n",
      "Scaled flux values in 11812062.npz and saved.\n",
      "Scaled flux values in 11853905.npz and saved.\n",
      "Scaled flux values in 11922290.npz and saved.\n",
      "Scaled flux values in 11966668.npz and saved.\n",
      "Scaled flux values in 12004656.npz and saved.\n",
      "Scaled flux values in 12008916.npz and saved.\n",
      "Scaled flux values in 12020329.npz and saved.\n",
      "Scaled flux values in 12116489.npz and saved.\n",
      "Scaled flux values in 12253534.npz and saved.\n",
      "Scaled flux values in 12257851.npz and saved.\n",
      "Scaled flux values in 12356617.npz and saved.\n",
      "Scaled flux values in 12403119.npz and saved.\n",
      "Scaled flux values in 12470954.npz and saved.\n",
      "Scaled flux values in 12506417.npz and saved.\n",
      "Scaled flux values in 12557548.npz and saved.\n",
      "Scaled flux values in 12644020.npz and saved.\n",
      "Scaled flux values in 12735740.npz and saved.\n",
      "Scaled flux values in 1995712.npz and saved.\n",
      "Scaled flux values in 2444412.npz and saved.\n",
      "Scaled flux values in 2568971.npz and saved.\n",
      "Scaled flux values in 2571238.npz and saved.\n",
      "Scaled flux values in 2581191.npz and saved.\n",
      "Scaled flux values in 2854839.npz and saved.\n",
      "Scaled flux values in 2972800.npz and saved.\n",
      "Scaled flux values in 2987027.npz and saved.\n",
      "Scaled flux values in 3117046.npz and saved.\n",
      "Scaled flux values in 3217264.npz and saved.\n",
      "Scaled flux values in 3218844.npz and saved.\n",
      "Scaled flux values in 3323887.npz and saved.\n",
      "Scaled flux values in 3344427.npz and saved.\n",
      "Scaled flux values in 3351888.npz and saved.\n",
      "Scaled flux values in 3560301.npz and saved.\n",
      "Scaled flux values in 3644649.npz and saved.\n",
      "Scaled flux values in 3650049.npz and saved.\n",
      "Scaled flux values in 3749365.npz and saved.\n",
      "Scaled flux values in 3835670.npz and saved.\n",
      "Scaled flux values in 3851134.npz and saved.\n",
      "Scaled flux values in 3858919.npz and saved.\n",
      "Scaled flux values in 3861595.npz and saved.\n",
      "Scaled flux values in 3866536.npz and saved.\n",
      "Scaled flux values in 3935914.npz and saved.\n",
      "Scaled flux values in 3937519.npz and saved.\n",
      "Scaled flux values in 4067110.npz and saved.\n",
      "Scaled flux values in 4073089.npz and saved.\n",
      "Scaled flux values in 4073730.npz and saved.\n",
      "Scaled flux values in 4076098.npz and saved.\n",
      "Scaled flux values in 4147171.npz and saved.\n",
      "Scaled flux values in 4150804.npz and saved.\n",
      "Scaled flux values in 4164994.npz and saved.\n",
      "Scaled flux values in 4349452.npz and saved.\n",
      "Scaled flux values in 4476423.npz and saved.\n",
      "Scaled flux values in 4483235.npz and saved.\n",
      "Scaled flux values in 4565943.npz and saved.\n",
      "Scaled flux values in 4664847.npz and saved.\n",
      "Scaled flux values in 4729553.npz and saved.\n",
      "Scaled flux values in 4732137.npz and saved.\n",
      "Scaled flux values in 4819158.npz and saved.\n",
      "Scaled flux values in 4832273.npz and saved.\n",
      "Scaled flux values in 4856592.npz and saved.\n",
      "Scaled flux values in 4914423.npz and saved.\n",
      "Scaled flux values in 4927738.npz and saved.\n",
      "Scaled flux values in 5022900.npz and saved.\n",
      "Scaled flux values in 5031804.npz and saved.\n",
      "Scaled flux values in 5031857.npz and saved.\n",
      "Scaled flux values in 5031882.npz and saved.\n",
      "Scaled flux values in 5088536.npz and saved.\n",
      "Scaled flux values in 5090937.npz and saved.\n",
      "Scaled flux values in 5091808.npz and saved.\n",
      "Scaled flux values in 5112198.npz and saved.\n",
      "Scaled flux values in 5164255.npz and saved.\n",
      "Scaled flux values in 5184584.npz and saved.\n",
      "Scaled flux values in 5288744.npz and saved.\n",
      "Scaled flux values in 5436502.npz and saved.\n",
      "Scaled flux values in 5437945.npz and saved.\n",
      "Scaled flux values in 5471158.npz and saved.\n",
      "Scaled flux values in 5476671.npz and saved.\n",
      "Scaled flux values in 5513866.npz and saved.\n",
      "Scaled flux values in 5529552.npz and saved.\n",
      "Scaled flux values in 5560831.npz and saved.\n",
      "Scaled flux values in 5616489.npz and saved.\n",
      "Scaled flux values in 5735762.npz and saved.\n",
      "Scaled flux values in 5780460.npz and saved.\n",
      "Scaled flux values in 5792202.npz and saved.\n",
      "Scaled flux values in 5864975.npz and saved.\n",
      "Scaled flux values in 5881688.npz and saved.\n",
      "Scaled flux values in 5966322.npz and saved.\n",
      "Scaled flux values in 5972334.npz and saved.\n",
      "Scaled flux values in 5989391.npz and saved.\n",
      "Scaled flux values in 6022556.npz and saved.\n",
      "Scaled flux values in 6032318.npz and saved.\n",
      "Scaled flux values in 6032920.npz and saved.\n",
      "Scaled flux values in 6061119.npz and saved.\n",
      "Scaled flux values in 6149980.npz and saved.\n",
      "Scaled flux values in 6205384.npz and saved.\n",
      "Scaled flux values in 6205481.npz and saved.\n",
      "Scaled flux values in 6291033.npz and saved.\n",
      "Scaled flux values in 6342980.npz and saved.\n",
      "Scaled flux values in 6359820.npz and saved.\n",
      "Scaled flux values in 6387887.npz and saved.\n",
      "Scaled flux values in 6421137.npz and saved.\n",
      "Scaled flux values in 6462863.npz and saved.\n",
      "Scaled flux values in 6504954.npz and saved.\n",
      "Scaled flux values in 6508221.npz and saved.\n",
      "Scaled flux values in 6515722.npz and saved.\n",
      "Scaled flux values in 6541920.npz and saved.\n",
      "Scaled flux values in 6583107.npz and saved.\n",
      "Scaled flux values in 6611779.npz and saved.\n",
      "Scaled flux values in 6678383.npz and saved.\n",
      "Scaled flux values in 6685403.npz and saved.\n",
      "Scaled flux values in 6849046.npz and saved.\n",
      "Scaled flux values in 7017437.npz and saved.\n",
      "Scaled flux values in 7024045.npz and saved.\n",
      "Scaled flux values in 7031340.npz and saved.\n",
      "Scaled flux values in 7035812.npz and saved.\n",
      "Scaled flux values in 7046804.npz and saved.\n",
      "Scaled flux values in 7106438.npz and saved.\n",
      "Scaled flux values in 7109675.npz and saved.\n",
      "Scaled flux values in 7115925.npz and saved.\n",
      "Scaled flux values in 7132798.npz and saved.\n",
      "Scaled flux values in 7189825.npz and saved.\n",
      "Scaled flux values in 7214090.npz and saved.\n",
      "Scaled flux values in 7269974.npz and saved.\n",
      "Scaled flux values in 7281484.npz and saved.\n",
      "Scaled flux values in 7303287.npz and saved.\n",
      "Scaled flux values in 7366258.npz and saved.\n",
      "Scaled flux values in 7434875.npz and saved.\n",
      "Scaled flux values in 7447200.npz and saved.\n",
      "Scaled flux values in 7529266.npz and saved.\n",
      "Scaled flux values in 757450.npz and saved.\n",
      "Scaled flux values in 7585481.npz and saved.\n",
      "Scaled flux values in 7592339.npz and saved.\n",
      "Scaled flux values in 7662209.npz and saved.\n",
      "Scaled flux values in 7670485.npz and saved.\n",
      "Scaled flux values in 7691527.npz and saved.\n",
      "Scaled flux values in 7698701.npz and saved.\n",
      "Scaled flux values in 7700578.npz and saved.\n",
      "Scaled flux values in 7770471.npz and saved.\n",
      "Scaled flux values in 7779942.npz and saved.\n",
      "Scaled flux values in 7818447.npz and saved.\n",
      "Scaled flux values in 7831264.npz and saved.\n",
      "Scaled flux values in 7849854.npz and saved.\n",
      "Scaled flux values in 7898352.npz and saved.\n",
      "Scaled flux values in 7918172.npz and saved.\n",
      "Scaled flux values in 7936194.npz and saved.\n",
      "Scaled flux values in 7938499.npz and saved.\n",
      "Scaled flux values in 7950644.npz and saved.\n",
      "Scaled flux values in 8008067.npz and saved.\n",
      "Scaled flux values in 8026752.npz and saved.\n",
      "Scaled flux values in 8030148.npz and saved.\n",
      "Scaled flux values in 8043638.npz and saved.\n",
      "Scaled flux values in 8043721.npz and saved.\n",
      "Scaled flux values in 8104207.npz and saved.\n",
      "Scaled flux values in 8107380.npz and saved.\n",
      "Scaled flux values in 8123937.npz and saved.\n",
      "Scaled flux values in 8126531.npz and saved.\n",
      "Scaled flux values in 8162789.npz and saved.\n",
      "Scaled flux values in 8179190.npz and saved.\n",
      "Scaled flux values in 8255887.npz and saved.\n",
      "Scaled flux values in 8309169.npz and saved.\n",
      "Scaled flux values in 8349582.npz and saved.\n",
      "Scaled flux values in 8374741.npz and saved.\n",
      "Scaled flux values in 8394721.npz and saved.\n",
      "Scaled flux values in 8442463.npz and saved.\n",
      "Scaled flux values in 8487777.npz and saved.\n",
      "Scaled flux values in 8491277.npz and saved.\n",
      "Scaled flux values in 8544996.npz and saved.\n",
      "Scaled flux values in 8559644.npz and saved.\n",
      "Scaled flux values in 8561063.npz and saved.\n",
      "Scaled flux values in 8565266.npz and saved.\n",
      "Scaled flux values in 8678594.npz and saved.\n",
      "Scaled flux values in 8711794.npz and saved.\n",
      "Scaled flux values in 8751933.npz and saved.\n",
      "Scaled flux values in 8822216.npz and saved.\n",
      "Scaled flux values in 8832676.npz and saved.\n",
      "Scaled flux values in 8979500.npz and saved.\n",
      "Scaled flux values in 9119405.npz and saved.\n",
      "Scaled flux values in 9141746.npz and saved.\n",
      "Scaled flux values in 9157634.npz and saved.\n",
      "Scaled flux values in 9304923.npz and saved.\n",
      "Scaled flux values in 9388479.npz and saved.\n",
      "Scaled flux values in 9390653.npz and saved.\n",
      "Scaled flux values in 9450647.npz and saved.\n",
      "Scaled flux values in 9458613.npz and saved.\n",
      "Scaled flux values in 9463329.npz and saved.\n",
      "Scaled flux values in 9471974.npz and saved.\n",
      "Scaled flux values in 9478990.npz and saved.\n",
      "Scaled flux values in 9479273.npz and saved.\n",
      "Scaled flux values in 9480189.npz and saved.\n",
      "Scaled flux values in 9579641.npz and saved.\n",
      "Scaled flux values in 9592831.npz and saved.\n",
      "Scaled flux values in 9595827.npz and saved.\n",
      "Scaled flux values in 9631995.npz and saved.\n",
      "Scaled flux values in 9643874.npz and saved.\n",
      "Scaled flux values in 9663113.npz and saved.\n",
      "Scaled flux values in 9692336.npz and saved.\n",
      "Scaled flux values in 9702072.npz and saved.\n",
      "Scaled flux values in 9710792.npz and saved.\n",
      "Scaled flux values in 9757613.npz and saved.\n",
      "Scaled flux values in 9775938.npz and saved.\n",
      "Scaled flux values in 9818381.npz and saved.\n",
      "Scaled flux values in 9827094.npz and saved.\n",
      "Scaled flux values in 9844088.npz and saved.\n",
      "Scaled flux values in 9875101.npz and saved.\n",
      "Scaled flux values in 9941550.npz and saved.\n",
      "Scaled flux values in 9953736.npz and saved.\n",
      "Scaled flux values in 9962731.npz and saved.\n"
     ]
    }
   ],
   "source": [
    "import numpy as np\n",
    "import os\n",
    "\n",
    "# Define the directory where your .npz files are saved\n",
    "npz_directory = 'curvesBig'  # Change this to the correct directory\n",
    "\n",
    "# List all the .npz files\n",
    "npz_files = [f for f in os.listdir(npz_directory) if f.endswith('.npz')]\n",
    "\n",
    "# Loop through each file\n",
    "for npz_file in npz_files:\n",
    "    # Load the .npz file\n",
    "    file_path = os.path.join(npz_directory, npz_file)\n",
    "    data = np.load(file_path)\n",
    "\n",
    "    # Extract time and flux arrays\n",
    "    time = data['time']\n",
    "    flux = data['flux']\n",
    "\n",
    "    # Min-Max Scaling of the flux\n",
    "    min_flux = np.min(flux)\n",
    "    max_flux = np.max(flux)\n",
    "    scaled_flux = (flux - min_flux) / (max_flux - min_flux)\n",
    "\n",
    "    # Save the scaled flux values back into the same file (or a new file if you prefer)\n",
    "    np.savez(os.path.join(\"curvesNorm/\", npz_file), time=time, flux=scaled_flux)\n",
    "\n",
    "    # Optionally, print progress\n",
    "    print(f\"Scaled flux values in {npz_file} and saved.\")"
   ]
  },
  {
   "cell_type": "code",
   "execution_count": 35,
   "id": "a015fdbb",
   "metadata": {},
   "outputs": [
    {
     "data": {
      "text/plain": [
       "<Axes: xlabel='Time [JD]', ylabel='Flux'>"
      ]
     },
     "execution_count": 35,
     "metadata": {},
     "output_type": "execute_result"
    },
    {
     "data": {
      "image/png": "[encoded data removed]",
      "text/plain": [
       "<Figure size 848.5x400 with 1 Axes>"
      ]
     },
     "metadata": {},
     "output_type": "display_data"
    }
   ],
   "source": [
    "%matplotlib inline\n",
    "import lightkurve as lk\n",
    "import numpy as np\n",
    "\n",
    "# 6387887\n",
    "# 757450\n",
    "kepid = 6387887\n",
    "curve = np.load(\"curvesNorm/\" + str(kepid) + \".npz\")\n",
    "\n",
    "time = data['time']\n",
    "flux = data['flux']\n",
    "\n",
    "lc = lk.LightCurve(time=time,flux=flux)\n",
    "lc.scatter()"
   ]
  }
 ],
 "metadata": {
  "kernelspec": {
   "display_name": "Python 3",
   "language": "python",
   "name": "python3"
  },
  "language_info": {
   "codemirror_mode": {
    "name": "ipython",
    "version": 3
   },
   "file_extension": ".py",
   "mimetype": "text/x-python",
   "name": "python",
   "nbconvert_exporter": "python",
   "pygments_lexer": "ipython3",
   "version": "3.10.6"
  }
 },
 "nbformat": 4,
 "nbformat_minor": 5
}
